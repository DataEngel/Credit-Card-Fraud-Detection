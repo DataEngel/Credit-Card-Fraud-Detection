{
 "cells": [
  {
   "cell_type": "markdown",
   "id": "sudden-newspaper",
   "metadata": {
    "papermill": {
     "duration": 0.026617,
     "end_time": "2021-04-29T00:30:51.227745",
     "exception": false,
     "start_time": "2021-04-29T00:30:51.201128",
     "status": "completed"
    },
    "tags": []
   },
   "source": [
    "# Credit Card Fraud Detection "
   ]
  },
  {
   "cell_type": "code",
   "execution_count": 1,
   "id": "naval-roller",
   "metadata": {
    "execution": {
     "iopub.execute_input": "2021-04-29T00:30:51.282687Z",
     "iopub.status.busy": "2021-04-29T00:30:51.281392Z",
     "iopub.status.idle": "2021-04-29T00:30:52.422038Z",
     "shell.execute_reply": "2021-04-29T00:30:52.422650Z"
    },
    "papermill": {
     "duration": 1.169804,
     "end_time": "2021-04-29T00:30:52.422968",
     "exception": false,
     "start_time": "2021-04-29T00:30:51.253164",
     "status": "completed"
    },
    "tags": []
   },
   "outputs": [],
   "source": [
    "# Import the libraries\n",
    "\n",
    "import numpy as np\n",
    "import pandas as pd\n",
    "import matplotlib.pyplot as plt\n",
    "import seaborn as sns\n",
    "import warnings\n",
    "warnings.filterwarnings(\"ignore\")"
   ]
  },
  {
   "cell_type": "code",
   "execution_count": 2,
   "id": "rental-leave",
   "metadata": {
    "execution": {
     "iopub.execute_input": "2021-04-29T00:30:52.483342Z",
     "iopub.status.busy": "2021-04-29T00:30:52.482528Z",
     "iopub.status.idle": "2021-04-29T00:30:56.846028Z",
     "shell.execute_reply": "2021-04-29T00:30:56.845355Z"
    },
    "papermill": {
     "duration": 4.397044,
     "end_time": "2021-04-29T00:30:56.846175",
     "exception": false,
     "start_time": "2021-04-29T00:30:52.449131",
     "status": "completed"
    },
    "tags": []
   },
   "outputs": [
    {
     "data": {
      "text/html": [
       "<div>\n",
       "<style scoped>\n",
       "    .dataframe tbody tr th:only-of-type {\n",
       "        vertical-align: middle;\n",
       "    }\n",
       "\n",
       "    .dataframe tbody tr th {\n",
       "        vertical-align: top;\n",
       "    }\n",
       "\n",
       "    .dataframe thead th {\n",
       "        text-align: right;\n",
       "    }\n",
       "</style>\n",
       "<table border=\"1\" class=\"dataframe\">\n",
       "  <thead>\n",
       "    <tr style=\"text-align: right;\">\n",
       "      <th></th>\n",
       "      <th>Time</th>\n",
       "      <th>V1</th>\n",
       "      <th>V2</th>\n",
       "      <th>V3</th>\n",
       "      <th>V4</th>\n",
       "      <th>V5</th>\n",
       "      <th>V6</th>\n",
       "      <th>V7</th>\n",
       "      <th>V8</th>\n",
       "      <th>V9</th>\n",
       "      <th>...</th>\n",
       "      <th>V21</th>\n",
       "      <th>V22</th>\n",
       "      <th>V23</th>\n",
       "      <th>V24</th>\n",
       "      <th>V25</th>\n",
       "      <th>V26</th>\n",
       "      <th>V27</th>\n",
       "      <th>V28</th>\n",
       "      <th>Amount</th>\n",
       "      <th>Class</th>\n",
       "    </tr>\n",
       "  </thead>\n",
       "  <tbody>\n",
       "    <tr>\n",
       "      <th>0</th>\n",
       "      <td>0.0</td>\n",
       "      <td>-1.359807</td>\n",
       "      <td>-0.072781</td>\n",
       "      <td>2.536347</td>\n",
       "      <td>1.378155</td>\n",
       "      <td>-0.338321</td>\n",
       "      <td>0.462388</td>\n",
       "      <td>0.239599</td>\n",
       "      <td>0.098698</td>\n",
       "      <td>0.363787</td>\n",
       "      <td>...</td>\n",
       "      <td>-0.018307</td>\n",
       "      <td>0.277838</td>\n",
       "      <td>-0.110474</td>\n",
       "      <td>0.066928</td>\n",
       "      <td>0.128539</td>\n",
       "      <td>-0.189115</td>\n",
       "      <td>0.133558</td>\n",
       "      <td>-0.021053</td>\n",
       "      <td>149.62</td>\n",
       "      <td>0</td>\n",
       "    </tr>\n",
       "    <tr>\n",
       "      <th>1</th>\n",
       "      <td>0.0</td>\n",
       "      <td>1.191857</td>\n",
       "      <td>0.266151</td>\n",
       "      <td>0.166480</td>\n",
       "      <td>0.448154</td>\n",
       "      <td>0.060018</td>\n",
       "      <td>-0.082361</td>\n",
       "      <td>-0.078803</td>\n",
       "      <td>0.085102</td>\n",
       "      <td>-0.255425</td>\n",
       "      <td>...</td>\n",
       "      <td>-0.225775</td>\n",
       "      <td>-0.638672</td>\n",
       "      <td>0.101288</td>\n",
       "      <td>-0.339846</td>\n",
       "      <td>0.167170</td>\n",
       "      <td>0.125895</td>\n",
       "      <td>-0.008983</td>\n",
       "      <td>0.014724</td>\n",
       "      <td>2.69</td>\n",
       "      <td>0</td>\n",
       "    </tr>\n",
       "    <tr>\n",
       "      <th>2</th>\n",
       "      <td>1.0</td>\n",
       "      <td>-1.358354</td>\n",
       "      <td>-1.340163</td>\n",
       "      <td>1.773209</td>\n",
       "      <td>0.379780</td>\n",
       "      <td>-0.503198</td>\n",
       "      <td>1.800499</td>\n",
       "      <td>0.791461</td>\n",
       "      <td>0.247676</td>\n",
       "      <td>-1.514654</td>\n",
       "      <td>...</td>\n",
       "      <td>0.247998</td>\n",
       "      <td>0.771679</td>\n",
       "      <td>0.909412</td>\n",
       "      <td>-0.689281</td>\n",
       "      <td>-0.327642</td>\n",
       "      <td>-0.139097</td>\n",
       "      <td>-0.055353</td>\n",
       "      <td>-0.059752</td>\n",
       "      <td>378.66</td>\n",
       "      <td>0</td>\n",
       "    </tr>\n",
       "    <tr>\n",
       "      <th>3</th>\n",
       "      <td>1.0</td>\n",
       "      <td>-0.966272</td>\n",
       "      <td>-0.185226</td>\n",
       "      <td>1.792993</td>\n",
       "      <td>-0.863291</td>\n",
       "      <td>-0.010309</td>\n",
       "      <td>1.247203</td>\n",
       "      <td>0.237609</td>\n",
       "      <td>0.377436</td>\n",
       "      <td>-1.387024</td>\n",
       "      <td>...</td>\n",
       "      <td>-0.108300</td>\n",
       "      <td>0.005274</td>\n",
       "      <td>-0.190321</td>\n",
       "      <td>-1.175575</td>\n",
       "      <td>0.647376</td>\n",
       "      <td>-0.221929</td>\n",
       "      <td>0.062723</td>\n",
       "      <td>0.061458</td>\n",
       "      <td>123.50</td>\n",
       "      <td>0</td>\n",
       "    </tr>\n",
       "    <tr>\n",
       "      <th>4</th>\n",
       "      <td>2.0</td>\n",
       "      <td>-1.158233</td>\n",
       "      <td>0.877737</td>\n",
       "      <td>1.548718</td>\n",
       "      <td>0.403034</td>\n",
       "      <td>-0.407193</td>\n",
       "      <td>0.095921</td>\n",
       "      <td>0.592941</td>\n",
       "      <td>-0.270533</td>\n",
       "      <td>0.817739</td>\n",
       "      <td>...</td>\n",
       "      <td>-0.009431</td>\n",
       "      <td>0.798278</td>\n",
       "      <td>-0.137458</td>\n",
       "      <td>0.141267</td>\n",
       "      <td>-0.206010</td>\n",
       "      <td>0.502292</td>\n",
       "      <td>0.219422</td>\n",
       "      <td>0.215153</td>\n",
       "      <td>69.99</td>\n",
       "      <td>0</td>\n",
       "    </tr>\n",
       "  </tbody>\n",
       "</table>\n",
       "<p>5 rows × 31 columns</p>\n",
       "</div>"
      ],
      "text/plain": [
       "   Time        V1        V2        V3        V4        V5        V6        V7  \\\n",
       "0   0.0 -1.359807 -0.072781  2.536347  1.378155 -0.338321  0.462388  0.239599   \n",
       "1   0.0  1.191857  0.266151  0.166480  0.448154  0.060018 -0.082361 -0.078803   \n",
       "2   1.0 -1.358354 -1.340163  1.773209  0.379780 -0.503198  1.800499  0.791461   \n",
       "3   1.0 -0.966272 -0.185226  1.792993 -0.863291 -0.010309  1.247203  0.237609   \n",
       "4   2.0 -1.158233  0.877737  1.548718  0.403034 -0.407193  0.095921  0.592941   \n",
       "\n",
       "         V8        V9  ...       V21       V22       V23       V24       V25  \\\n",
       "0  0.098698  0.363787  ... -0.018307  0.277838 -0.110474  0.066928  0.128539   \n",
       "1  0.085102 -0.255425  ... -0.225775 -0.638672  0.101288 -0.339846  0.167170   \n",
       "2  0.247676 -1.514654  ...  0.247998  0.771679  0.909412 -0.689281 -0.327642   \n",
       "3  0.377436 -1.387024  ... -0.108300  0.005274 -0.190321 -1.175575  0.647376   \n",
       "4 -0.270533  0.817739  ... -0.009431  0.798278 -0.137458  0.141267 -0.206010   \n",
       "\n",
       "        V26       V27       V28  Amount  Class  \n",
       "0 -0.189115  0.133558 -0.021053  149.62      0  \n",
       "1  0.125895 -0.008983  0.014724    2.69      0  \n",
       "2 -0.139097 -0.055353 -0.059752  378.66      0  \n",
       "3 -0.221929  0.062723  0.061458  123.50      0  \n",
       "4  0.502292  0.219422  0.215153   69.99      0  \n",
       "\n",
       "[5 rows x 31 columns]"
      ]
     },
     "execution_count": 2,
     "metadata": {},
     "output_type": "execute_result"
    }
   ],
   "source": [
    "#importing data from kaggle\n",
    "credit_df = pd.read_csv(\"/kaggle/input/creditcardfraud/creditcard.csv\")\n",
    "credit_df.head(5)"
   ]
  },
  {
   "cell_type": "markdown",
   "id": "third-louis",
   "metadata": {
    "papermill": {
     "duration": 0.025794,
     "end_time": "2021-04-29T00:30:56.898507",
     "exception": false,
     "start_time": "2021-04-29T00:30:56.872713",
     "status": "completed"
    },
    "tags": []
   },
   "source": [
    "# Data processing and undersampling "
   ]
  },
  {
   "cell_type": "markdown",
   "id": "documentary-tucson",
   "metadata": {
    "papermill": {
     "duration": 0.026711,
     "end_time": "2021-04-29T00:30:56.951478",
     "exception": false,
     "start_time": "2021-04-29T00:30:56.924767",
     "status": "completed"
    },
    "tags": []
   },
   "source": [
    "Time varible is not needed for do classification, I'm gonna remove the feature from the dataset :"
   ]
  },
  {
   "cell_type": "code",
   "execution_count": 3,
   "id": "latest-croatia",
   "metadata": {
    "execution": {
     "iopub.execute_input": "2021-04-29T00:30:57.009064Z",
     "iopub.status.busy": "2021-04-29T00:30:57.008355Z",
     "iopub.status.idle": "2021-04-29T00:30:57.041125Z",
     "shell.execute_reply": "2021-04-29T00:30:57.041661Z"
    },
    "papermill": {
     "duration": 0.063325,
     "end_time": "2021-04-29T00:30:57.041873",
     "exception": false,
     "start_time": "2021-04-29T00:30:56.978548",
     "status": "completed"
    },
    "tags": []
   },
   "outputs": [],
   "source": [
    "credit_df = credit_df.drop(\"Time\", axis=1)"
   ]
  },
  {
   "cell_type": "code",
   "execution_count": 4,
   "id": "baking-contact",
   "metadata": {
    "execution": {
     "iopub.execute_input": "2021-04-29T00:30:57.103897Z",
     "iopub.status.busy": "2021-04-29T00:30:57.103155Z",
     "iopub.status.idle": "2021-04-29T00:30:57.130986Z",
     "shell.execute_reply": "2021-04-29T00:30:57.131576Z"
    },
    "papermill": {
     "duration": 0.058333,
     "end_time": "2021-04-29T00:30:57.131819",
     "exception": false,
     "start_time": "2021-04-29T00:30:57.073486",
     "status": "completed"
    },
    "tags": []
   },
   "outputs": [
    {
     "data": {
      "text/html": [
       "<div>\n",
       "<style scoped>\n",
       "    .dataframe tbody tr th:only-of-type {\n",
       "        vertical-align: middle;\n",
       "    }\n",
       "\n",
       "    .dataframe tbody tr th {\n",
       "        vertical-align: top;\n",
       "    }\n",
       "\n",
       "    .dataframe thead th {\n",
       "        text-align: right;\n",
       "    }\n",
       "</style>\n",
       "<table border=\"1\" class=\"dataframe\">\n",
       "  <thead>\n",
       "    <tr style=\"text-align: right;\">\n",
       "      <th></th>\n",
       "      <th>V1</th>\n",
       "      <th>V2</th>\n",
       "      <th>V3</th>\n",
       "      <th>V4</th>\n",
       "      <th>V5</th>\n",
       "      <th>V6</th>\n",
       "      <th>V7</th>\n",
       "      <th>V8</th>\n",
       "      <th>V9</th>\n",
       "      <th>V10</th>\n",
       "      <th>...</th>\n",
       "      <th>V21</th>\n",
       "      <th>V22</th>\n",
       "      <th>V23</th>\n",
       "      <th>V24</th>\n",
       "      <th>V25</th>\n",
       "      <th>V26</th>\n",
       "      <th>V27</th>\n",
       "      <th>V28</th>\n",
       "      <th>Amount</th>\n",
       "      <th>Class</th>\n",
       "    </tr>\n",
       "  </thead>\n",
       "  <tbody>\n",
       "    <tr>\n",
       "      <th>0</th>\n",
       "      <td>-1.359807</td>\n",
       "      <td>-0.072781</td>\n",
       "      <td>2.536347</td>\n",
       "      <td>1.378155</td>\n",
       "      <td>-0.338321</td>\n",
       "      <td>0.462388</td>\n",
       "      <td>0.239599</td>\n",
       "      <td>0.098698</td>\n",
       "      <td>0.363787</td>\n",
       "      <td>0.090794</td>\n",
       "      <td>...</td>\n",
       "      <td>-0.018307</td>\n",
       "      <td>0.277838</td>\n",
       "      <td>-0.110474</td>\n",
       "      <td>0.066928</td>\n",
       "      <td>0.128539</td>\n",
       "      <td>-0.189115</td>\n",
       "      <td>0.133558</td>\n",
       "      <td>-0.021053</td>\n",
       "      <td>149.62</td>\n",
       "      <td>0</td>\n",
       "    </tr>\n",
       "    <tr>\n",
       "      <th>1</th>\n",
       "      <td>1.191857</td>\n",
       "      <td>0.266151</td>\n",
       "      <td>0.166480</td>\n",
       "      <td>0.448154</td>\n",
       "      <td>0.060018</td>\n",
       "      <td>-0.082361</td>\n",
       "      <td>-0.078803</td>\n",
       "      <td>0.085102</td>\n",
       "      <td>-0.255425</td>\n",
       "      <td>-0.166974</td>\n",
       "      <td>...</td>\n",
       "      <td>-0.225775</td>\n",
       "      <td>-0.638672</td>\n",
       "      <td>0.101288</td>\n",
       "      <td>-0.339846</td>\n",
       "      <td>0.167170</td>\n",
       "      <td>0.125895</td>\n",
       "      <td>-0.008983</td>\n",
       "      <td>0.014724</td>\n",
       "      <td>2.69</td>\n",
       "      <td>0</td>\n",
       "    </tr>\n",
       "    <tr>\n",
       "      <th>2</th>\n",
       "      <td>-1.358354</td>\n",
       "      <td>-1.340163</td>\n",
       "      <td>1.773209</td>\n",
       "      <td>0.379780</td>\n",
       "      <td>-0.503198</td>\n",
       "      <td>1.800499</td>\n",
       "      <td>0.791461</td>\n",
       "      <td>0.247676</td>\n",
       "      <td>-1.514654</td>\n",
       "      <td>0.207643</td>\n",
       "      <td>...</td>\n",
       "      <td>0.247998</td>\n",
       "      <td>0.771679</td>\n",
       "      <td>0.909412</td>\n",
       "      <td>-0.689281</td>\n",
       "      <td>-0.327642</td>\n",
       "      <td>-0.139097</td>\n",
       "      <td>-0.055353</td>\n",
       "      <td>-0.059752</td>\n",
       "      <td>378.66</td>\n",
       "      <td>0</td>\n",
       "    </tr>\n",
       "    <tr>\n",
       "      <th>3</th>\n",
       "      <td>-0.966272</td>\n",
       "      <td>-0.185226</td>\n",
       "      <td>1.792993</td>\n",
       "      <td>-0.863291</td>\n",
       "      <td>-0.010309</td>\n",
       "      <td>1.247203</td>\n",
       "      <td>0.237609</td>\n",
       "      <td>0.377436</td>\n",
       "      <td>-1.387024</td>\n",
       "      <td>-0.054952</td>\n",
       "      <td>...</td>\n",
       "      <td>-0.108300</td>\n",
       "      <td>0.005274</td>\n",
       "      <td>-0.190321</td>\n",
       "      <td>-1.175575</td>\n",
       "      <td>0.647376</td>\n",
       "      <td>-0.221929</td>\n",
       "      <td>0.062723</td>\n",
       "      <td>0.061458</td>\n",
       "      <td>123.50</td>\n",
       "      <td>0</td>\n",
       "    </tr>\n",
       "    <tr>\n",
       "      <th>4</th>\n",
       "      <td>-1.158233</td>\n",
       "      <td>0.877737</td>\n",
       "      <td>1.548718</td>\n",
       "      <td>0.403034</td>\n",
       "      <td>-0.407193</td>\n",
       "      <td>0.095921</td>\n",
       "      <td>0.592941</td>\n",
       "      <td>-0.270533</td>\n",
       "      <td>0.817739</td>\n",
       "      <td>0.753074</td>\n",
       "      <td>...</td>\n",
       "      <td>-0.009431</td>\n",
       "      <td>0.798278</td>\n",
       "      <td>-0.137458</td>\n",
       "      <td>0.141267</td>\n",
       "      <td>-0.206010</td>\n",
       "      <td>0.502292</td>\n",
       "      <td>0.219422</td>\n",
       "      <td>0.215153</td>\n",
       "      <td>69.99</td>\n",
       "      <td>0</td>\n",
       "    </tr>\n",
       "  </tbody>\n",
       "</table>\n",
       "<p>5 rows × 30 columns</p>\n",
       "</div>"
      ],
      "text/plain": [
       "         V1        V2        V3        V4        V5        V6        V7  \\\n",
       "0 -1.359807 -0.072781  2.536347  1.378155 -0.338321  0.462388  0.239599   \n",
       "1  1.191857  0.266151  0.166480  0.448154  0.060018 -0.082361 -0.078803   \n",
       "2 -1.358354 -1.340163  1.773209  0.379780 -0.503198  1.800499  0.791461   \n",
       "3 -0.966272 -0.185226  1.792993 -0.863291 -0.010309  1.247203  0.237609   \n",
       "4 -1.158233  0.877737  1.548718  0.403034 -0.407193  0.095921  0.592941   \n",
       "\n",
       "         V8        V9       V10  ...       V21       V22       V23       V24  \\\n",
       "0  0.098698  0.363787  0.090794  ... -0.018307  0.277838 -0.110474  0.066928   \n",
       "1  0.085102 -0.255425 -0.166974  ... -0.225775 -0.638672  0.101288 -0.339846   \n",
       "2  0.247676 -1.514654  0.207643  ...  0.247998  0.771679  0.909412 -0.689281   \n",
       "3  0.377436 -1.387024 -0.054952  ... -0.108300  0.005274 -0.190321 -1.175575   \n",
       "4 -0.270533  0.817739  0.753074  ... -0.009431  0.798278 -0.137458  0.141267   \n",
       "\n",
       "        V25       V26       V27       V28  Amount  Class  \n",
       "0  0.128539 -0.189115  0.133558 -0.021053  149.62      0  \n",
       "1  0.167170  0.125895 -0.008983  0.014724    2.69      0  \n",
       "2 -0.327642 -0.139097 -0.055353 -0.059752  378.66      0  \n",
       "3  0.647376 -0.221929  0.062723  0.061458  123.50      0  \n",
       "4 -0.206010  0.502292  0.219422  0.215153   69.99      0  \n",
       "\n",
       "[5 rows x 30 columns]"
      ]
     },
     "execution_count": 4,
     "metadata": {},
     "output_type": "execute_result"
    }
   ],
   "source": [
    "credit_df.head(5)"
   ]
  },
  {
   "cell_type": "markdown",
   "id": "constant-praise",
   "metadata": {
    "papermill": {
     "duration": 0.026615,
     "end_time": "2021-04-29T00:30:57.186508",
     "exception": false,
     "start_time": "2021-04-29T00:30:57.159893",
     "status": "completed"
    },
    "tags": []
   },
   "source": [
    "We gonna use the StandardScaler function from sklearn to standardize Amount variable before modelling. Then, we just have to drop the old feature:"
   ]
  },
  {
   "cell_type": "code",
   "execution_count": 5,
   "id": "occupational-pursuit",
   "metadata": {
    "execution": {
     "iopub.execute_input": "2021-04-29T00:30:57.245434Z",
     "iopub.status.busy": "2021-04-29T00:30:57.244702Z",
     "iopub.status.idle": "2021-04-29T00:30:57.454428Z",
     "shell.execute_reply": "2021-04-29T00:30:57.454995Z"
    },
    "papermill": {
     "duration": 0.241556,
     "end_time": "2021-04-29T00:30:57.455217",
     "exception": false,
     "start_time": "2021-04-29T00:30:57.213661",
     "status": "completed"
    },
    "tags": []
   },
   "outputs": [],
   "source": [
    "from sklearn import preprocessing\n",
    "scaler = preprocessing.StandardScaler()"
   ]
  },
  {
   "cell_type": "code",
   "execution_count": 6,
   "id": "intermediate-regard",
   "metadata": {
    "execution": {
     "iopub.execute_input": "2021-04-29T00:30:57.525630Z",
     "iopub.status.busy": "2021-04-29T00:30:57.524906Z",
     "iopub.status.idle": "2021-04-29T00:30:57.618755Z",
     "shell.execute_reply": "2021-04-29T00:30:57.619422Z"
    },
    "papermill": {
     "duration": 0.129395,
     "end_time": "2021-04-29T00:30:57.619615",
     "exception": false,
     "start_time": "2021-04-29T00:30:57.490220",
     "status": "completed"
    },
    "tags": []
   },
   "outputs": [],
   "source": [
    "#standard scaling\n",
    "credit_df['std_Amount'] = scaler.fit_transform(credit_df['Amount'].values.reshape (-1,1))\n",
    "\n",
    "#removing Amount\n",
    "credit_df = credit_df.drop(\"Amount\", axis=1)"
   ]
  },
  {
   "cell_type": "markdown",
   "id": "southeast-barrel",
   "metadata": {
    "papermill": {
     "duration": 0.02707,
     "end_time": "2021-04-29T00:30:57.675073",
     "exception": false,
     "start_time": "2021-04-29T00:30:57.648003",
     "status": "completed"
    },
    "tags": []
   },
   "source": [
    "Now look the class"
   ]
  },
  {
   "cell_type": "code",
   "execution_count": 7,
   "id": "historic-sessions",
   "metadata": {
    "execution": {
     "iopub.execute_input": "2021-04-29T00:30:57.737998Z",
     "iopub.status.busy": "2021-04-29T00:30:57.737204Z",
     "iopub.status.idle": "2021-04-29T00:30:57.919063Z",
     "shell.execute_reply": "2021-04-29T00:30:57.918409Z"
    },
    "papermill": {
     "duration": 0.215804,
     "end_time": "2021-04-29T00:30:57.919254",
     "exception": false,
     "start_time": "2021-04-29T00:30:57.703450",
     "status": "completed"
    },
    "tags": []
   },
   "outputs": [
    {
     "data": {
      "text/plain": [
       "<AxesSubplot:xlabel='Class', ylabel='count'>"
      ]
     },
     "execution_count": 7,
     "metadata": {},
     "output_type": "execute_result"
    },
    {
     "data": {
      "image/png": "[encoded data removed]",
      "text/plain": [
       "<Figure size 432x288 with 1 Axes>"
      ]
     },
     "metadata": {
      "needs_background": "light"
     },
     "output_type": "display_data"
    }
   ],
   "source": [
    "sns.countplot(x=\"Class\", data=credit_df)"
   ]
  },
  {
   "cell_type": "markdown",
   "id": "annual-weekend",
   "metadata": {
    "papermill": {
     "duration": 0.028711,
     "end_time": "2021-04-29T00:30:57.977010",
     "exception": false,
     "start_time": "2021-04-29T00:30:57.948299",
     "status": "completed"
    },
    "tags": []
   },
   "source": [
    "As the dataset is highly imbalanced and we don't want bias in the predictions. I will proceed to random undersampling with the danger and that is posible, or even likely, that useful information will be deleted.\n",
    "\n",
    "We gonna use the package imblearn with RandomUnderSampler function to do undersampling. "
   ]
  },
  {
   "cell_type": "code",
   "execution_count": 8,
   "id": "accepting-closure",
   "metadata": {
    "execution": {
     "iopub.execute_input": "2021-04-29T00:30:58.040998Z",
     "iopub.status.busy": "2021-04-29T00:30:58.040254Z",
     "iopub.status.idle": "2021-04-29T00:30:58.554761Z",
     "shell.execute_reply": "2021-04-29T00:30:58.554176Z"
    },
    "papermill": {
     "duration": 0.548744,
     "end_time": "2021-04-29T00:30:58.554922",
     "exception": false,
     "start_time": "2021-04-29T00:30:58.006178",
     "status": "completed"
    },
    "tags": []
   },
   "outputs": [],
   "source": [
    "import imblearn\n",
    "from imblearn.under_sampling import RandomUnderSampler \n",
    "\n",
    "undersample = RandomUnderSampler(sampling_strategy=0.5)"
   ]
  },
  {
   "cell_type": "code",
   "execution_count": 9,
   "id": "stable-independence",
   "metadata": {
    "execution": {
     "iopub.execute_input": "2021-04-29T00:30:58.618235Z",
     "iopub.status.busy": "2021-04-29T00:30:58.617553Z",
     "iopub.status.idle": "2021-04-29T00:30:58.620811Z",
     "shell.execute_reply": "2021-04-29T00:30:58.620259Z"
    },
    "papermill": {
     "duration": 0.037282,
     "end_time": "2021-04-29T00:30:58.620953",
     "exception": false,
     "start_time": "2021-04-29T00:30:58.583671",
     "status": "completed"
    },
    "tags": []
   },
   "outputs": [],
   "source": [
    "cols = credit_df.columns.tolist()\n",
    "cols = [c for c in cols if c not in [\"Class\"]]\n",
    "target = \"Class\" "
   ]
  },
  {
   "cell_type": "code",
   "execution_count": 10,
   "id": "equivalent-bernard",
   "metadata": {
    "execution": {
     "iopub.execute_input": "2021-04-29T00:30:58.708022Z",
     "iopub.status.busy": "2021-04-29T00:30:58.707267Z",
     "iopub.status.idle": "2021-04-29T00:30:58.852591Z",
     "shell.execute_reply": "2021-04-29T00:30:58.851417Z"
    },
    "papermill": {
     "duration": 0.203292,
     "end_time": "2021-04-29T00:30:58.852769",
     "exception": false,
     "start_time": "2021-04-29T00:30:58.649477",
     "status": "completed"
    },
    "tags": []
   },
   "outputs": [],
   "source": [
    "#define X and Y\n",
    "X = credit_df[cols]\n",
    "Y = credit_df[target]\n",
    "\n",
    "#undersample\n",
    "X_under, Y_under = undersample.fit_resample(X, Y)"
   ]
  },
  {
   "cell_type": "code",
   "execution_count": 11,
   "id": "crazy-madness",
   "metadata": {
    "execution": {
     "iopub.execute_input": "2021-04-29T00:30:58.927808Z",
     "iopub.status.busy": "2021-04-29T00:30:58.926653Z",
     "iopub.status.idle": "2021-04-29T00:30:58.929703Z",
     "shell.execute_reply": "2021-04-29T00:30:58.930977Z"
    },
    "papermill": {
     "duration": 0.047357,
     "end_time": "2021-04-29T00:30:58.931170",
     "exception": false,
     "start_time": "2021-04-29T00:30:58.883813",
     "status": "completed"
    },
    "tags": []
   },
   "outputs": [],
   "source": [
    "from pandas import DataFrame\n",
    "\n",
    "test = pd.DataFrame(Y_under, columns = ['Class'])"
   ]
  },
  {
   "cell_type": "code",
   "execution_count": 12,
   "id": "silver-aggregate",
   "metadata": {
    "execution": {
     "iopub.execute_input": "2021-04-29T00:30:59.042138Z",
     "iopub.status.busy": "2021-04-29T00:30:59.020832Z",
     "iopub.status.idle": "2021-04-29T00:30:59.260436Z",
     "shell.execute_reply": "2021-04-29T00:30:59.259750Z"
    },
    "papermill": {
     "duration": 0.300396,
     "end_time": "2021-04-29T00:30:59.260585",
     "exception": false,
     "start_time": "2021-04-29T00:30:58.960189",
     "status": "completed"
    },
    "tags": []
   },
   "outputs": [
    {
     "data": {
      "text/plain": [
       "Text(0.5, 1.0, 'After')"
      ]
     },
     "execution_count": 12,
     "metadata": {},
     "output_type": "execute_result"
    },
    {
     "data": {
      "image/png": "[encoded data removed]",
      "text/plain": [
       "<Figure size 936x324 with 2 Axes>"
      ]
     },
     "metadata": {
      "needs_background": "light"
     },
     "output_type": "display_data"
    }
   ],
   "source": [
    "#visualizing undersampling results\n",
    "fig, axs = plt.subplots(ncols=2, figsize=(13,4.5))\n",
    "sns.countplot(x=\"Class\", data=credit_df, ax=axs[0])\n",
    "sns.countplot(x=\"Class\", data=test, ax=axs[1])\n",
    "\n",
    "fig.suptitle(\"Class repartition before and after undersampling\")\n",
    "a1=fig.axes[0]\n",
    "a1.set_title(\"Before\")\n",
    "a2=fig.axes[1]\n",
    "a2.set_title(\"After\")"
   ]
  },
  {
   "cell_type": "markdown",
   "id": "strategic-symbol",
   "metadata": {
    "papermill": {
     "duration": 0.030413,
     "end_time": "2021-04-29T00:30:59.321268",
     "exception": false,
     "start_time": "2021-04-29T00:30:59.290855",
     "status": "completed"
    },
    "tags": []
   },
   "source": [
    "We're gonna split the data intro train and test samples"
   ]
  },
  {
   "cell_type": "code",
   "execution_count": 13,
   "id": "purple-kernel",
   "metadata": {
    "execution": {
     "iopub.execute_input": "2021-04-29T00:30:59.388867Z",
     "iopub.status.busy": "2021-04-29T00:30:59.387449Z",
     "iopub.status.idle": "2021-04-29T00:30:59.392061Z",
     "shell.execute_reply": "2021-04-29T00:30:59.391409Z"
    },
    "papermill": {
     "duration": 0.040851,
     "end_time": "2021-04-29T00:30:59.392207",
     "exception": false,
     "start_time": "2021-04-29T00:30:59.351356",
     "status": "completed"
    },
    "tags": []
   },
   "outputs": [],
   "source": [
    "from sklearn.model_selection import train_test_split\n",
    "\n",
    "X_train, X_test, y_train, y_test = train_test_split(X_under, Y_under, test_size=0.2, random_state=1)"
   ]
  },
  {
   "cell_type": "markdown",
   "id": "danish-quantity",
   "metadata": {
    "papermill": {
     "duration": 0.029919,
     "end_time": "2021-04-29T00:30:59.452588",
     "exception": false,
     "start_time": "2021-04-29T00:30:59.422669",
     "status": "completed"
    },
    "tags": []
   },
   "source": [
    "# We gonna make the modeling"
   ]
  },
  {
   "cell_type": "code",
   "execution_count": 14,
   "id": "lesbian-generic",
   "metadata": {
    "execution": {
     "iopub.execute_input": "2021-04-29T00:30:59.519103Z",
     "iopub.status.busy": "2021-04-29T00:30:59.518339Z",
     "iopub.status.idle": "2021-04-29T00:31:06.641576Z",
     "shell.execute_reply": "2021-04-29T00:31:06.640670Z"
    },
    "papermill": {
     "duration": 7.158017,
     "end_time": "2021-04-29T00:31:06.641739",
     "exception": false,
     "start_time": "2021-04-29T00:30:59.483722",
     "status": "completed"
    },
    "tags": []
   },
   "outputs": [],
   "source": [
    "#importing packages for modeling\n",
    "\n",
    "from sklearn.linear_model import LogisticRegression\n",
    "from sklearn.svm import SVC\n",
    "from sklearn.ensemble import RandomForestClassifier\n",
    "from xgboost import XGBClassifier\n",
    "from sklearn.neural_network import MLPClassifier\n",
    "\n",
    "import tensorflow as tf\n",
    "from tensorflow import keras\n",
    "from tensorflow.keras import layers\n",
    "from keras.layers import Dropout\n",
    "from keras.models import Sequential\n",
    "from keras.layers import Dense\n",
    "from keras.layers import BatchNormalization\n",
    "\n",
    "from sklearn import metrics\n",
    "from sklearn.metrics import confusion_matrix\n",
    "from sklearn.metrics import roc_curve\n",
    "from sklearn.metrics import roc_auc_score\n",
    "from sklearn.metrics import auc\n",
    "from sklearn.metrics import precision_recall_curve"
   ]
  },
  {
   "cell_type": "markdown",
   "id": "featured-verse",
   "metadata": {
    "papermill": {
     "duration": 0.038195,
     "end_time": "2021-04-29T00:31:06.711826",
     "exception": false,
     "start_time": "2021-04-29T00:31:06.673631",
     "status": "completed"
    },
    "tags": []
   },
   "source": [
    "# Logistic Regression"
   ]
  },
  {
   "cell_type": "code",
   "execution_count": 15,
   "id": "bacterial-louisiana",
   "metadata": {
    "execution": {
     "iopub.execute_input": "2021-04-29T00:31:06.786487Z",
     "iopub.status.busy": "2021-04-29T00:31:06.785743Z",
     "iopub.status.idle": "2021-04-29T00:31:06.840545Z",
     "shell.execute_reply": "2021-04-29T00:31:06.839552Z"
    },
    "papermill": {
     "duration": 0.09409,
     "end_time": "2021-04-29T00:31:06.840783",
     "exception": false,
     "start_time": "2021-04-29T00:31:06.746693",
     "status": "completed"
    },
    "tags": []
   },
   "outputs": [],
   "source": [
    "#train the model\n",
    "model1 = LogisticRegression(random_state=2)\n",
    "logit = model1.fit(X_train, y_train)"
   ]
  },
  {
   "cell_type": "code",
   "execution_count": 16,
   "id": "occupied-television",
   "metadata": {
    "execution": {
     "iopub.execute_input": "2021-04-29T00:31:06.966884Z",
     "iopub.status.busy": "2021-04-29T00:31:06.966142Z",
     "iopub.status.idle": "2021-04-29T00:31:06.969995Z",
     "shell.execute_reply": "2021-04-29T00:31:06.970525Z"
    },
    "papermill": {
     "duration": 0.070827,
     "end_time": "2021-04-29T00:31:06.970752",
     "exception": false,
     "start_time": "2021-04-29T00:31:06.899925",
     "status": "completed"
    },
    "tags": []
   },
   "outputs": [],
   "source": [
    "#predictions\n",
    "y_pred_Logistic = model1.predict(X_test) "
   ]
  },
  {
   "cell_type": "code",
   "execution_count": 17,
   "id": "transparent-cheat",
   "metadata": {
    "execution": {
     "iopub.execute_input": "2021-04-29T00:31:07.042519Z",
     "iopub.status.busy": "2021-04-29T00:31:07.041417Z",
     "iopub.status.idle": "2021-04-29T00:31:07.058110Z",
     "shell.execute_reply": "2021-04-29T00:31:07.058877Z"
    },
    "papermill": {
     "duration": 0.056736,
     "end_time": "2021-04-29T00:31:07.059157",
     "exception": false,
     "start_time": "2021-04-29T00:31:07.002421",
     "status": "completed"
    },
    "tags": []
   },
   "outputs": [
    {
     "name": "stdout",
     "output_type": "stream",
     "text": [
      "Accuracy Logistic Regression: 0.956081081081081\n",
      "Precision Logistic Regression: 0.9896907216494846\n",
      "Recall Logistic Regression: 0.8888888888888888\n",
      "F1 Score Logistic Regression: 0.9365853658536585\n"
     ]
    }
   ],
   "source": [
    "#scores\n",
    "print(\"Accuracy Logistic Regression:\",metrics.accuracy_score(y_test, y_pred_Logistic))\n",
    "print(\"Precision Logistic Regression:\",metrics.precision_score(y_test, y_pred_Logistic))\n",
    "print(\"Recall Logistic Regression:\",metrics.recall_score(y_test, y_pred_Logistic))\n",
    "print(\"F1 Score Logistic Regression:\",metrics.f1_score(y_test, y_pred_Logistic))"
   ]
  },
  {
   "cell_type": "code",
   "execution_count": 18,
   "id": "acquired-netherlands",
   "metadata": {
    "execution": {
     "iopub.execute_input": "2021-04-29T00:31:07.140348Z",
     "iopub.status.busy": "2021-04-29T00:31:07.139567Z",
     "iopub.status.idle": "2021-04-29T00:31:07.277289Z",
     "shell.execute_reply": "2021-04-29T00:31:07.276607Z"
    },
    "papermill": {
     "duration": 0.179674,
     "end_time": "2021-04-29T00:31:07.277451",
     "exception": false,
     "start_time": "2021-04-29T00:31:07.097777",
     "status": "completed"
    },
    "tags": []
   },
   "outputs": [
    {
     "data": {
      "image/png": "[encoded data removed]",
      "text/plain": [
       "<Figure size 432x288 with 1 Axes>"
      ]
     },
     "metadata": {
      "needs_background": "light"
     },
     "output_type": "display_data"
    }
   ],
   "source": [
    "#print CM\n",
    "matrix_logit = confusion_matrix(y_test, y_pred_Logistic)\n",
    "cm_logit = pd.DataFrame(matrix_logit, index=['not_fraud', 'fraud'], columns=['not_fraud', 'fraud'])\n",
    "\n",
    "sns.heatmap(cm_logit, annot=True, cbar=None, cmap=\"Blues\", fmt = 'g')\n",
    "plt.title(\"Confusion Matrix Logit\"), plt.tight_layout()\n",
    "plt.ylabel(\"True Class\"), plt.xlabel(\"Predicted Class\")\n",
    "plt.show()"
   ]
  },
  {
   "cell_type": "code",
   "execution_count": 19,
   "id": "affecting-endorsement",
   "metadata": {
    "execution": {
     "iopub.execute_input": "2021-04-29T00:31:07.355865Z",
     "iopub.status.busy": "2021-04-29T00:31:07.354038Z",
     "iopub.status.idle": "2021-04-29T00:31:07.364248Z",
     "shell.execute_reply": "2021-04-29T00:31:07.362840Z"
    },
    "papermill": {
     "duration": 0.053038,
     "end_time": "2021-04-29T00:31:07.364562",
     "exception": false,
     "start_time": "2021-04-29T00:31:07.311524",
     "status": "completed"
    },
    "tags": []
   },
   "outputs": [
    {
     "name": "stdout",
     "output_type": "stream",
     "text": [
      "AUC Logistic Regression : 0.9722222222222222\n"
     ]
    }
   ],
   "source": [
    "#AUC\n",
    "y_pred_logit_proba = model1.predict_proba(X_test)[::,1]\n",
    "fpr_logit, tpr_logit, _ = metrics.roc_curve(y_test,  y_pred_logit_proba)\n",
    "auc_logit = metrics.roc_auc_score(y_test, y_pred_logit_proba)\n",
    "print(\"AUC Logistic Regression :\", auc_logit)"
   ]
  },
  {
   "cell_type": "code",
   "execution_count": 20,
   "id": "associate-command",
   "metadata": {
    "execution": {
     "iopub.execute_input": "2021-04-29T00:31:07.464366Z",
     "iopub.status.busy": "2021-04-29T00:31:07.463627Z",
     "iopub.status.idle": "2021-04-29T00:31:07.629856Z",
     "shell.execute_reply": "2021-04-29T00:31:07.628638Z"
    },
    "papermill": {
     "duration": 0.224524,
     "end_time": "2021-04-29T00:31:07.630038",
     "exception": false,
     "start_time": "2021-04-29T00:31:07.405514",
     "status": "completed"
    },
    "tags": []
   },
   "outputs": [
    {
     "data": {
      "image/png": "[encoded data removed]",
      "text/plain": [
       "<Figure size 432x288 with 1 Axes>"
      ]
     },
     "metadata": {
      "needs_background": "light"
     },
     "output_type": "display_data"
    }
   ],
   "source": [
    "#ROC\n",
    "plt.plot(fpr_logit,tpr_logit,label=\"Logistic Regression, auc={:.3f})\".format(auc_logit))\n",
    "plt.plot([0, 1], [0, 1], 'k--')\n",
    "plt.xlabel('False positive rate')\n",
    "plt.ylabel('True positive rate')\n",
    "plt.title('Logistic Regression ROC curve')\n",
    "plt.legend(loc=4)\n",
    "plt.show()"
   ]
  },
  {
   "cell_type": "code",
   "execution_count": 21,
   "id": "smoking-plate",
   "metadata": {
    "execution": {
     "iopub.execute_input": "2021-04-29T00:31:07.708505Z",
     "iopub.status.busy": "2021-04-29T00:31:07.707088Z",
     "iopub.status.idle": "2021-04-29T00:31:07.906195Z",
     "shell.execute_reply": "2021-04-29T00:31:07.906716Z"
    },
    "papermill": {
     "duration": 0.241902,
     "end_time": "2021-04-29T00:31:07.906915",
     "exception": false,
     "start_time": "2021-04-29T00:31:07.665013",
     "status": "completed"
    },
    "tags": []
   },
   "outputs": [
    {
     "data": {
      "image/png": "[encoded data removed]",
      "text/plain": [
       "<Figure size 432x288 with 1 Axes>"
      ]
     },
     "metadata": {
      "needs_background": "light"
     },
     "output_type": "display_data"
    }
   ],
   "source": [
    "logit_precision, logit_recall, _ = precision_recall_curve(y_test, y_pred_logit_proba)\n",
    "no_skill = len(y_test[y_test==1]) / len(y_test)\n",
    "plt.plot([0, 1], [no_skill, no_skill], linestyle='--', color='black', label='No Skill')\n",
    "plt.plot(logit_recall, logit_precision, color='orange', label='Logistic')\n",
    "plt.xlabel('Recall')\n",
    "plt.ylabel('Precision')\n",
    "plt.title('Precision-Recall curve')\n",
    "plt.legend()\n",
    "plt.show()"
   ]
  },
  {
   "cell_type": "markdown",
   "id": "utility-advertising",
   "metadata": {
    "papermill": {
     "duration": 0.034775,
     "end_time": "2021-04-29T00:31:07.976994",
     "exception": false,
     "start_time": "2021-04-29T00:31:07.942219",
     "status": "completed"
    },
    "tags": []
   },
   "source": [
    "Classification metrics for Logistic Regression (rounded down):\n",
    "\n",
    "- Accuracy : 0.94\n",
    "- F1 score : 0.92\n",
    "- AUC : 0.96"
   ]
  },
  {
   "cell_type": "markdown",
   "id": "informational-sydney",
   "metadata": {
    "papermill": {
     "duration": 0.035829,
     "end_time": "2021-04-29T00:31:08.047721",
     "exception": false,
     "start_time": "2021-04-29T00:31:08.011892",
     "status": "completed"
    },
    "tags": []
   },
   "source": [
    "# Support Vector Machine"
   ]
  },
  {
   "cell_type": "code",
   "execution_count": 22,
   "id": "fatty-knife",
   "metadata": {
    "execution": {
     "iopub.execute_input": "2021-04-29T00:31:08.122923Z",
     "iopub.status.busy": "2021-04-29T00:31:08.122221Z",
     "iopub.status.idle": "2021-04-29T00:31:08.240966Z",
     "shell.execute_reply": "2021-04-29T00:31:08.241514Z"
    },
    "papermill": {
     "duration": 0.157578,
     "end_time": "2021-04-29T00:31:08.241718",
     "exception": false,
     "start_time": "2021-04-29T00:31:08.084140",
     "status": "completed"
    },
    "tags": []
   },
   "outputs": [],
   "source": [
    "#train the model\n",
    "model2 = SVC(probability=True, random_state=2)\n",
    "svm = model2.fit(X_train, y_train)"
   ]
  },
  {
   "cell_type": "code",
   "execution_count": 23,
   "id": "fiscal-fusion",
   "metadata": {
    "execution": {
     "iopub.execute_input": "2021-04-29T00:31:08.315332Z",
     "iopub.status.busy": "2021-04-29T00:31:08.314616Z",
     "iopub.status.idle": "2021-04-29T00:31:08.327965Z",
     "shell.execute_reply": "2021-04-29T00:31:08.327298Z"
    },
    "papermill": {
     "duration": 0.051543,
     "end_time": "2021-04-29T00:31:08.328114",
     "exception": false,
     "start_time": "2021-04-29T00:31:08.276571",
     "status": "completed"
    },
    "tags": []
   },
   "outputs": [],
   "source": [
    "#predictions\n",
    "y_pred_svm = model2.predict(X_test)"
   ]
  },
  {
   "cell_type": "code",
   "execution_count": 24,
   "id": "internal-mountain",
   "metadata": {
    "execution": {
     "iopub.execute_input": "2021-04-29T00:31:08.407739Z",
     "iopub.status.busy": "2021-04-29T00:31:08.406260Z",
     "iopub.status.idle": "2021-04-29T00:31:08.420362Z",
     "shell.execute_reply": "2021-04-29T00:31:08.419676Z"
    },
    "papermill": {
     "duration": 0.057305,
     "end_time": "2021-04-29T00:31:08.420524",
     "exception": false,
     "start_time": "2021-04-29T00:31:08.363219",
     "status": "completed"
    },
    "tags": []
   },
   "outputs": [
    {
     "name": "stdout",
     "output_type": "stream",
     "text": [
      "Accuracy SVM: 0.9459459459459459\n",
      "Precision SVM: 0.9893617021276596\n",
      "Recall SVM: 0.8611111111111112\n",
      "F1 Score SVM: 0.9207920792079208\n"
     ]
    }
   ],
   "source": [
    "#scores\n",
    "print(\"Accuracy SVM:\",metrics.accuracy_score(y_test, y_pred_svm))\n",
    "print(\"Precision SVM:\",metrics.precision_score(y_test, y_pred_svm))\n",
    "print(\"Recall SVM:\",metrics.recall_score(y_test, y_pred_svm))\n",
    "print(\"F1 Score SVM:\",metrics.f1_score(y_test, y_pred_svm))"
   ]
  },
  {
   "cell_type": "code",
   "execution_count": 25,
   "id": "settled-statistics",
   "metadata": {
    "execution": {
     "iopub.execute_input": "2021-04-29T00:31:08.539551Z",
     "iopub.status.busy": "2021-04-29T00:31:08.538217Z",
     "iopub.status.idle": "2021-04-29T00:31:08.667266Z",
     "shell.execute_reply": "2021-04-29T00:31:08.667774Z"
    },
    "papermill": {
     "duration": 0.21154,
     "end_time": "2021-04-29T00:31:08.667964",
     "exception": false,
     "start_time": "2021-04-29T00:31:08.456424",
     "status": "completed"
    },
    "tags": []
   },
   "outputs": [
    {
     "data": {
      "image/png": "[encoded data removed]",
      "text/plain": [
       "<Figure size 432x288 with 1 Axes>"
      ]
     },
     "metadata": {
      "needs_background": "light"
     },
     "output_type": "display_data"
    }
   ],
   "source": [
    "#CM matrix\n",
    "matrix_svm = confusion_matrix(y_test, y_pred_svm)\n",
    "cm_svm = pd.DataFrame(matrix_svm, index=['not_fraud', 'fraud'], columns=['not_fraud', 'fraud'])\n",
    "\n",
    "sns.heatmap(cm_svm, annot=True, cbar=None, cmap=\"Blues\", fmt = 'g')\n",
    "plt.title(\"Confusion Matrix SVM\"), plt.tight_layout()\n",
    "plt.ylabel(\"True Class\"), plt.xlabel(\"Predicted Class\")\n",
    "plt.show()"
   ]
  },
  {
   "cell_type": "code",
   "execution_count": 26,
   "id": "labeled-productivity",
   "metadata": {
    "execution": {
     "iopub.execute_input": "2021-04-29T00:31:08.745850Z",
     "iopub.status.busy": "2021-04-29T00:31:08.744819Z",
     "iopub.status.idle": "2021-04-29T00:31:08.762082Z",
     "shell.execute_reply": "2021-04-29T00:31:08.762665Z"
    },
    "papermill": {
     "duration": 0.057442,
     "end_time": "2021-04-29T00:31:08.762855",
     "exception": false,
     "start_time": "2021-04-29T00:31:08.705413",
     "status": "completed"
    },
    "tags": []
   },
   "outputs": [
    {
     "name": "stdout",
     "output_type": "stream",
     "text": [
      "AUC SVM : 0.9750788022064617\n"
     ]
    }
   ],
   "source": [
    "#AUC\n",
    "y_pred_svm_proba = model2.predict_proba(X_test)[::,1]\n",
    "fpr_svm, tpr_svm, _ = metrics.roc_curve(y_test,  y_pred_svm_proba)\n",
    "auc_svm = metrics.roc_auc_score(y_test, y_pred_svm_proba)\n",
    "print(\"AUC SVM :\", auc_svm)"
   ]
  },
  {
   "cell_type": "code",
   "execution_count": 27,
   "id": "floating-joint",
   "metadata": {
    "execution": {
     "iopub.execute_input": "2021-04-29T00:31:08.840117Z",
     "iopub.status.busy": "2021-04-29T00:31:08.839429Z",
     "iopub.status.idle": "2021-04-29T00:31:09.006056Z",
     "shell.execute_reply": "2021-04-29T00:31:09.006615Z"
    },
    "papermill": {
     "duration": 0.207148,
     "end_time": "2021-04-29T00:31:09.006804",
     "exception": false,
     "start_time": "2021-04-29T00:31:08.799656",
     "status": "completed"
    },
    "tags": []
   },
   "outputs": [
    {
     "data": {
      "image/png": "[encoded data removed]",
      "text/plain": [
       "<Figure size 432x288 with 1 Axes>"
      ]
     },
     "metadata": {
      "needs_background": "light"
     },
     "output_type": "display_data"
    }
   ],
   "source": [
    "#ROC\n",
    "plt.plot(fpr_svm,tpr_svm,label=\"SVM, auc={:.3f})\".format(auc_svm))\n",
    "plt.plot([0, 1], [0, 1], 'k--')\n",
    "plt.xlabel('False positive rate')\n",
    "plt.ylabel('True positive rate')\n",
    "plt.title('SVM ROC curve')\n",
    "plt.legend(loc=4)\n",
    "plt.show()"
   ]
  },
  {
   "cell_type": "code",
   "execution_count": 28,
   "id": "spare-naples",
   "metadata": {
    "execution": {
     "iopub.execute_input": "2021-04-29T00:31:09.087055Z",
     "iopub.status.busy": "2021-04-29T00:31:09.086209Z",
     "iopub.status.idle": "2021-04-29T00:31:09.270181Z",
     "shell.execute_reply": "2021-04-29T00:31:09.270761Z"
    },
    "papermill": {
     "duration": 0.226351,
     "end_time": "2021-04-29T00:31:09.270967",
     "exception": false,
     "start_time": "2021-04-29T00:31:09.044616",
     "status": "completed"
    },
    "tags": []
   },
   "outputs": [
    {
     "data": {
      "image/png": "[encoded data removed]",
      "text/plain": [
       "<Figure size 432x288 with 1 Axes>"
      ]
     },
     "metadata": {
      "needs_background": "light"
     },
     "output_type": "display_data"
    }
   ],
   "source": [
    "svm_precision, svm_recall, _ = precision_recall_curve(y_test, y_pred_svm_proba)\n",
    "no_skill = len(y_test[y_test==1]) / len(y_test)\n",
    "plt.plot([0, 1], [no_skill, no_skill], linestyle='--', color='black', label='No Skill')\n",
    "plt.plot(svm_recall, svm_precision, color='orange', label='SVM')\n",
    "plt.xlabel('Recall')\n",
    "plt.ylabel('Precision')\n",
    "plt.title('Precision-Recall curve')\n",
    "plt.legend()\n",
    "plt.show()"
   ]
  },
  {
   "cell_type": "markdown",
   "id": "organic-mystery",
   "metadata": {
    "papermill": {
     "duration": 0.039553,
     "end_time": "2021-04-29T00:31:09.351457",
     "exception": false,
     "start_time": "2021-04-29T00:31:09.311904",
     "status": "completed"
    },
    "tags": []
   },
   "source": [
    "Classification metrics for SVM (rounded down) :\n",
    "- Accuracy : 0.94\n",
    "- F1 score : 0.92\n",
    "- AUC : 0.97"
   ]
  },
  {
   "cell_type": "code",
   "execution_count": null,
   "id": "pressing-rugby",
   "metadata": {
    "papermill": {
     "duration": 0.040229,
     "end_time": "2021-04-29T00:31:09.432453",
     "exception": false,
     "start_time": "2021-04-29T00:31:09.392224",
     "status": "completed"
    },
    "tags": []
   },
   "outputs": [],
   "source": []
  }
 ],
 "metadata": {
  "kernelspec": {
   "display_name": "Python 3",
   "language": "python",
   "name": "python3"
  },
  "language_info": {
   "codemirror_mode": {
    "name": "ipython",
    "version": 3
   },
   "file_extension": ".py",
   "mimetype": "text/x-python",
   "name": "python",
   "nbconvert_exporter": "python",
   "pygments_lexer": "ipython3",
   "version": "3.7.9"
  },
  "papermill": {
   "default_parameters": {},
   "duration": 26.868329,
   "end_time": "2021-04-29T00:31:10.985868",
   "environment_variables": {},
   "exception": null,
   "input_path": "__notebook__.ipynb",
   "output_path": "__notebook__.ipynb",
   "parameters": {},
   "start_time": "2021-04-29T00:30:44.117539",
   "version": "2.3.2"
  }
 },
 "nbformat": 4,
 "nbformat_minor": 5
}
