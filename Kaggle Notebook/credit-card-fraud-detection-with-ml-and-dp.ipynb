{
 "cells": [
  {
   "cell_type": "markdown",
   "id": "assigned-roots",
   "metadata": {
    "papermill": {
     "duration": 0.020515,
     "end_time": "2021-04-26T20:43:58.526651",
     "exception": false,
     "start_time": "2021-04-26T20:43:58.506136",
     "status": "completed"
    },
    "tags": []
   },
   "source": [
    "# Credit Card Fraud Detection "
   ]
  },
  {
   "cell_type": "code",
   "execution_count": 1,
   "id": "modified-paraguay",
   "metadata": {
    "execution": {
     "iopub.execute_input": "2021-04-26T20:43:58.572087Z",
     "iopub.status.busy": "2021-04-26T20:43:58.571388Z",
     "iopub.status.idle": "2021-04-26T20:43:59.489421Z",
     "shell.execute_reply": "2021-04-26T20:43:59.488515Z"
    },
    "papermill": {
     "duration": 0.943138,
     "end_time": "2021-04-26T20:43:59.489603",
     "exception": false,
     "start_time": "2021-04-26T20:43:58.546465",
     "status": "completed"
    },
    "tags": []
   },
   "outputs": [],
   "source": [
    "# Import the libraries\n",
    "\n",
    "import numpy as np\n",
    "import pandas as pd\n",
    "import matplotlib.pyplot as plt\n",
    "import seaborn as sns\n",
    "import warnings\n",
    "warnings.filterwarnings(\"ignore\")"
   ]
  },
  {
   "cell_type": "code",
   "execution_count": 2,
   "id": "square-repair",
   "metadata": {
    "execution": {
     "iopub.execute_input": "2021-04-26T20:43:59.535508Z",
     "iopub.status.busy": "2021-04-26T20:43:59.534813Z",
     "iopub.status.idle": "2021-04-26T20:44:03.860534Z",
     "shell.execute_reply": "2021-04-26T20:44:03.861011Z"
    },
    "papermill": {
     "duration": 4.350497,
     "end_time": "2021-04-26T20:44:03.861184",
     "exception": false,
     "start_time": "2021-04-26T20:43:59.510687",
     "status": "completed"
    },
    "tags": []
   },
   "outputs": [
    {
     "data": {
      "text/html": [
       "<div>\n",
       "<style scoped>\n",
       "    .dataframe tbody tr th:only-of-type {\n",
       "        vertical-align: middle;\n",
       "    }\n",
       "\n",
       "    .dataframe tbody tr th {\n",
       "        vertical-align: top;\n",
       "    }\n",
       "\n",
       "    .dataframe thead th {\n",
       "        text-align: right;\n",
       "    }\n",
       "</style>\n",
       "<table border=\"1\" class=\"dataframe\">\n",
       "  <thead>\n",
       "    <tr style=\"text-align: right;\">\n",
       "      <th></th>\n",
       "      <th>Time</th>\n",
       "      <th>V1</th>\n",
       "      <th>V2</th>\n",
       "      <th>V3</th>\n",
       "      <th>V4</th>\n",
       "      <th>V5</th>\n",
       "      <th>V6</th>\n",
       "      <th>V7</th>\n",
       "      <th>V8</th>\n",
       "      <th>V9</th>\n",
       "      <th>...</th>\n",
       "      <th>V21</th>\n",
       "      <th>V22</th>\n",
       "      <th>V23</th>\n",
       "      <th>V24</th>\n",
       "      <th>V25</th>\n",
       "      <th>V26</th>\n",
       "      <th>V27</th>\n",
       "      <th>V28</th>\n",
       "      <th>Amount</th>\n",
       "      <th>Class</th>\n",
       "    </tr>\n",
       "  </thead>\n",
       "  <tbody>\n",
       "    <tr>\n",
       "      <th>0</th>\n",
       "      <td>0.0</td>\n",
       "      <td>-1.359807</td>\n",
       "      <td>-0.072781</td>\n",
       "      <td>2.536347</td>\n",
       "      <td>1.378155</td>\n",
       "      <td>-0.338321</td>\n",
       "      <td>0.462388</td>\n",
       "      <td>0.239599</td>\n",
       "      <td>0.098698</td>\n",
       "      <td>0.363787</td>\n",
       "      <td>...</td>\n",
       "      <td>-0.018307</td>\n",
       "      <td>0.277838</td>\n",
       "      <td>-0.110474</td>\n",
       "      <td>0.066928</td>\n",
       "      <td>0.128539</td>\n",
       "      <td>-0.189115</td>\n",
       "      <td>0.133558</td>\n",
       "      <td>-0.021053</td>\n",
       "      <td>149.62</td>\n",
       "      <td>0</td>\n",
       "    </tr>\n",
       "    <tr>\n",
       "      <th>1</th>\n",
       "      <td>0.0</td>\n",
       "      <td>1.191857</td>\n",
       "      <td>0.266151</td>\n",
       "      <td>0.166480</td>\n",
       "      <td>0.448154</td>\n",
       "      <td>0.060018</td>\n",
       "      <td>-0.082361</td>\n",
       "      <td>-0.078803</td>\n",
       "      <td>0.085102</td>\n",
       "      <td>-0.255425</td>\n",
       "      <td>...</td>\n",
       "      <td>-0.225775</td>\n",
       "      <td>-0.638672</td>\n",
       "      <td>0.101288</td>\n",
       "      <td>-0.339846</td>\n",
       "      <td>0.167170</td>\n",
       "      <td>0.125895</td>\n",
       "      <td>-0.008983</td>\n",
       "      <td>0.014724</td>\n",
       "      <td>2.69</td>\n",
       "      <td>0</td>\n",
       "    </tr>\n",
       "    <tr>\n",
       "      <th>2</th>\n",
       "      <td>1.0</td>\n",
       "      <td>-1.358354</td>\n",
       "      <td>-1.340163</td>\n",
       "      <td>1.773209</td>\n",
       "      <td>0.379780</td>\n",
       "      <td>-0.503198</td>\n",
       "      <td>1.800499</td>\n",
       "      <td>0.791461</td>\n",
       "      <td>0.247676</td>\n",
       "      <td>-1.514654</td>\n",
       "      <td>...</td>\n",
       "      <td>0.247998</td>\n",
       "      <td>0.771679</td>\n",
       "      <td>0.909412</td>\n",
       "      <td>-0.689281</td>\n",
       "      <td>-0.327642</td>\n",
       "      <td>-0.139097</td>\n",
       "      <td>-0.055353</td>\n",
       "      <td>-0.059752</td>\n",
       "      <td>378.66</td>\n",
       "      <td>0</td>\n",
       "    </tr>\n",
       "    <tr>\n",
       "      <th>3</th>\n",
       "      <td>1.0</td>\n",
       "      <td>-0.966272</td>\n",
       "      <td>-0.185226</td>\n",
       "      <td>1.792993</td>\n",
       "      <td>-0.863291</td>\n",
       "      <td>-0.010309</td>\n",
       "      <td>1.247203</td>\n",
       "      <td>0.237609</td>\n",
       "      <td>0.377436</td>\n",
       "      <td>-1.387024</td>\n",
       "      <td>...</td>\n",
       "      <td>-0.108300</td>\n",
       "      <td>0.005274</td>\n",
       "      <td>-0.190321</td>\n",
       "      <td>-1.175575</td>\n",
       "      <td>0.647376</td>\n",
       "      <td>-0.221929</td>\n",
       "      <td>0.062723</td>\n",
       "      <td>0.061458</td>\n",
       "      <td>123.50</td>\n",
       "      <td>0</td>\n",
       "    </tr>\n",
       "    <tr>\n",
       "      <th>4</th>\n",
       "      <td>2.0</td>\n",
       "      <td>-1.158233</td>\n",
       "      <td>0.877737</td>\n",
       "      <td>1.548718</td>\n",
       "      <td>0.403034</td>\n",
       "      <td>-0.407193</td>\n",
       "      <td>0.095921</td>\n",
       "      <td>0.592941</td>\n",
       "      <td>-0.270533</td>\n",
       "      <td>0.817739</td>\n",
       "      <td>...</td>\n",
       "      <td>-0.009431</td>\n",
       "      <td>0.798278</td>\n",
       "      <td>-0.137458</td>\n",
       "      <td>0.141267</td>\n",
       "      <td>-0.206010</td>\n",
       "      <td>0.502292</td>\n",
       "      <td>0.219422</td>\n",
       "      <td>0.215153</td>\n",
       "      <td>69.99</td>\n",
       "      <td>0</td>\n",
       "    </tr>\n",
       "  </tbody>\n",
       "</table>\n",
       "<p>5 rows × 31 columns</p>\n",
       "</div>"
      ],
      "text/plain": [
       "   Time        V1        V2        V3        V4        V5        V6        V7  \\\n",
       "0   0.0 -1.359807 -0.072781  2.536347  1.378155 -0.338321  0.462388  0.239599   \n",
       "1   0.0  1.191857  0.266151  0.166480  0.448154  0.060018 -0.082361 -0.078803   \n",
       "2   1.0 -1.358354 -1.340163  1.773209  0.379780 -0.503198  1.800499  0.791461   \n",
       "3   1.0 -0.966272 -0.185226  1.792993 -0.863291 -0.010309  1.247203  0.237609   \n",
       "4   2.0 -1.158233  0.877737  1.548718  0.403034 -0.407193  0.095921  0.592941   \n",
       "\n",
       "         V8        V9  ...       V21       V22       V23       V24       V25  \\\n",
       "0  0.098698  0.363787  ... -0.018307  0.277838 -0.110474  0.066928  0.128539   \n",
       "1  0.085102 -0.255425  ... -0.225775 -0.638672  0.101288 -0.339846  0.167170   \n",
       "2  0.247676 -1.514654  ...  0.247998  0.771679  0.909412 -0.689281 -0.327642   \n",
       "3  0.377436 -1.387024  ... -0.108300  0.005274 -0.190321 -1.175575  0.647376   \n",
       "4 -0.270533  0.817739  ... -0.009431  0.798278 -0.137458  0.141267 -0.206010   \n",
       "\n",
       "        V26       V27       V28  Amount  Class  \n",
       "0 -0.189115  0.133558 -0.021053  149.62      0  \n",
       "1  0.125895 -0.008983  0.014724    2.69      0  \n",
       "2 -0.139097 -0.055353 -0.059752  378.66      0  \n",
       "3 -0.221929  0.062723  0.061458  123.50      0  \n",
       "4  0.502292  0.219422  0.215153   69.99      0  \n",
       "\n",
       "[5 rows x 31 columns]"
      ]
     },
     "execution_count": 2,
     "metadata": {},
     "output_type": "execute_result"
    }
   ],
   "source": [
    "#importing data from kaggle\n",
    "credit_df = pd.read_csv(\"/kaggle/input/creditcardfraud/creditcard.csv\")\n",
    "credit_df.head(5)"
   ]
  },
  {
   "cell_type": "markdown",
   "id": "psychological-organizer",
   "metadata": {
    "papermill": {
     "duration": 0.02305,
     "end_time": "2021-04-26T20:44:03.905593",
     "exception": false,
     "start_time": "2021-04-26T20:44:03.882543",
     "status": "completed"
    },
    "tags": []
   },
   "source": [
    "# Data processing and undersampling "
   ]
  },
  {
   "cell_type": "markdown",
   "id": "hungry-branch",
   "metadata": {
    "papermill": {
     "duration": 0.020283,
     "end_time": "2021-04-26T20:44:03.947019",
     "exception": false,
     "start_time": "2021-04-26T20:44:03.926736",
     "status": "completed"
    },
    "tags": []
   },
   "source": [
    "Time varible is not needed for do classification, I'm gonna remove the feature from the dataset :"
   ]
  },
  {
   "cell_type": "code",
   "execution_count": 3,
   "id": "living-manitoba",
   "metadata": {
    "execution": {
     "iopub.execute_input": "2021-04-26T20:44:04.024037Z",
     "iopub.status.busy": "2021-04-26T20:44:04.022207Z",
     "iopub.status.idle": "2021-04-26T20:44:04.027213Z",
     "shell.execute_reply": "2021-04-26T20:44:04.026616Z"
    },
    "papermill": {
     "duration": 0.059679,
     "end_time": "2021-04-26T20:44:04.027353",
     "exception": false,
     "start_time": "2021-04-26T20:44:03.967674",
     "status": "completed"
    },
    "tags": []
   },
   "outputs": [],
   "source": [
    "credit_df = credit_df.drop(\"Time\", axis=1)"
   ]
  },
  {
   "cell_type": "code",
   "execution_count": 4,
   "id": "brutal-basin",
   "metadata": {
    "execution": {
     "iopub.execute_input": "2021-04-26T20:44:04.091156Z",
     "iopub.status.busy": "2021-04-26T20:44:04.082887Z",
     "iopub.status.idle": "2021-04-26T20:44:04.099208Z",
     "shell.execute_reply": "2021-04-26T20:44:04.099666Z"
    },
    "papermill": {
     "duration": 0.051819,
     "end_time": "2021-04-26T20:44:04.099838",
     "exception": false,
     "start_time": "2021-04-26T20:44:04.048019",
     "status": "completed"
    },
    "tags": []
   },
   "outputs": [
    {
     "data": {
      "text/html": [
       "<div>\n",
       "<style scoped>\n",
       "    .dataframe tbody tr th:only-of-type {\n",
       "        vertical-align: middle;\n",
       "    }\n",
       "\n",
       "    .dataframe tbody tr th {\n",
       "        vertical-align: top;\n",
       "    }\n",
       "\n",
       "    .dataframe thead th {\n",
       "        text-align: right;\n",
       "    }\n",
       "</style>\n",
       "<table border=\"1\" class=\"dataframe\">\n",
       "  <thead>\n",
       "    <tr style=\"text-align: right;\">\n",
       "      <th></th>\n",
       "      <th>V1</th>\n",
       "      <th>V2</th>\n",
       "      <th>V3</th>\n",
       "      <th>V4</th>\n",
       "      <th>V5</th>\n",
       "      <th>V6</th>\n",
       "      <th>V7</th>\n",
       "      <th>V8</th>\n",
       "      <th>V9</th>\n",
       "      <th>V10</th>\n",
       "      <th>...</th>\n",
       "      <th>V21</th>\n",
       "      <th>V22</th>\n",
       "      <th>V23</th>\n",
       "      <th>V24</th>\n",
       "      <th>V25</th>\n",
       "      <th>V26</th>\n",
       "      <th>V27</th>\n",
       "      <th>V28</th>\n",
       "      <th>Amount</th>\n",
       "      <th>Class</th>\n",
       "    </tr>\n",
       "  </thead>\n",
       "  <tbody>\n",
       "    <tr>\n",
       "      <th>0</th>\n",
       "      <td>-1.359807</td>\n",
       "      <td>-0.072781</td>\n",
       "      <td>2.536347</td>\n",
       "      <td>1.378155</td>\n",
       "      <td>-0.338321</td>\n",
       "      <td>0.462388</td>\n",
       "      <td>0.239599</td>\n",
       "      <td>0.098698</td>\n",
       "      <td>0.363787</td>\n",
       "      <td>0.090794</td>\n",
       "      <td>...</td>\n",
       "      <td>-0.018307</td>\n",
       "      <td>0.277838</td>\n",
       "      <td>-0.110474</td>\n",
       "      <td>0.066928</td>\n",
       "      <td>0.128539</td>\n",
       "      <td>-0.189115</td>\n",
       "      <td>0.133558</td>\n",
       "      <td>-0.021053</td>\n",
       "      <td>149.62</td>\n",
       "      <td>0</td>\n",
       "    </tr>\n",
       "    <tr>\n",
       "      <th>1</th>\n",
       "      <td>1.191857</td>\n",
       "      <td>0.266151</td>\n",
       "      <td>0.166480</td>\n",
       "      <td>0.448154</td>\n",
       "      <td>0.060018</td>\n",
       "      <td>-0.082361</td>\n",
       "      <td>-0.078803</td>\n",
       "      <td>0.085102</td>\n",
       "      <td>-0.255425</td>\n",
       "      <td>-0.166974</td>\n",
       "      <td>...</td>\n",
       "      <td>-0.225775</td>\n",
       "      <td>-0.638672</td>\n",
       "      <td>0.101288</td>\n",
       "      <td>-0.339846</td>\n",
       "      <td>0.167170</td>\n",
       "      <td>0.125895</td>\n",
       "      <td>-0.008983</td>\n",
       "      <td>0.014724</td>\n",
       "      <td>2.69</td>\n",
       "      <td>0</td>\n",
       "    </tr>\n",
       "    <tr>\n",
       "      <th>2</th>\n",
       "      <td>-1.358354</td>\n",
       "      <td>-1.340163</td>\n",
       "      <td>1.773209</td>\n",
       "      <td>0.379780</td>\n",
       "      <td>-0.503198</td>\n",
       "      <td>1.800499</td>\n",
       "      <td>0.791461</td>\n",
       "      <td>0.247676</td>\n",
       "      <td>-1.514654</td>\n",
       "      <td>0.207643</td>\n",
       "      <td>...</td>\n",
       "      <td>0.247998</td>\n",
       "      <td>0.771679</td>\n",
       "      <td>0.909412</td>\n",
       "      <td>-0.689281</td>\n",
       "      <td>-0.327642</td>\n",
       "      <td>-0.139097</td>\n",
       "      <td>-0.055353</td>\n",
       "      <td>-0.059752</td>\n",
       "      <td>378.66</td>\n",
       "      <td>0</td>\n",
       "    </tr>\n",
       "    <tr>\n",
       "      <th>3</th>\n",
       "      <td>-0.966272</td>\n",
       "      <td>-0.185226</td>\n",
       "      <td>1.792993</td>\n",
       "      <td>-0.863291</td>\n",
       "      <td>-0.010309</td>\n",
       "      <td>1.247203</td>\n",
       "      <td>0.237609</td>\n",
       "      <td>0.377436</td>\n",
       "      <td>-1.387024</td>\n",
       "      <td>-0.054952</td>\n",
       "      <td>...</td>\n",
       "      <td>-0.108300</td>\n",
       "      <td>0.005274</td>\n",
       "      <td>-0.190321</td>\n",
       "      <td>-1.175575</td>\n",
       "      <td>0.647376</td>\n",
       "      <td>-0.221929</td>\n",
       "      <td>0.062723</td>\n",
       "      <td>0.061458</td>\n",
       "      <td>123.50</td>\n",
       "      <td>0</td>\n",
       "    </tr>\n",
       "    <tr>\n",
       "      <th>4</th>\n",
       "      <td>-1.158233</td>\n",
       "      <td>0.877737</td>\n",
       "      <td>1.548718</td>\n",
       "      <td>0.403034</td>\n",
       "      <td>-0.407193</td>\n",
       "      <td>0.095921</td>\n",
       "      <td>0.592941</td>\n",
       "      <td>-0.270533</td>\n",
       "      <td>0.817739</td>\n",
       "      <td>0.753074</td>\n",
       "      <td>...</td>\n",
       "      <td>-0.009431</td>\n",
       "      <td>0.798278</td>\n",
       "      <td>-0.137458</td>\n",
       "      <td>0.141267</td>\n",
       "      <td>-0.206010</td>\n",
       "      <td>0.502292</td>\n",
       "      <td>0.219422</td>\n",
       "      <td>0.215153</td>\n",
       "      <td>69.99</td>\n",
       "      <td>0</td>\n",
       "    </tr>\n",
       "  </tbody>\n",
       "</table>\n",
       "<p>5 rows × 30 columns</p>\n",
       "</div>"
      ],
      "text/plain": [
       "         V1        V2        V3        V4        V5        V6        V7  \\\n",
       "0 -1.359807 -0.072781  2.536347  1.378155 -0.338321  0.462388  0.239599   \n",
       "1  1.191857  0.266151  0.166480  0.448154  0.060018 -0.082361 -0.078803   \n",
       "2 -1.358354 -1.340163  1.773209  0.379780 -0.503198  1.800499  0.791461   \n",
       "3 -0.966272 -0.185226  1.792993 -0.863291 -0.010309  1.247203  0.237609   \n",
       "4 -1.158233  0.877737  1.548718  0.403034 -0.407193  0.095921  0.592941   \n",
       "\n",
       "         V8        V9       V10  ...       V21       V22       V23       V24  \\\n",
       "0  0.098698  0.363787  0.090794  ... -0.018307  0.277838 -0.110474  0.066928   \n",
       "1  0.085102 -0.255425 -0.166974  ... -0.225775 -0.638672  0.101288 -0.339846   \n",
       "2  0.247676 -1.514654  0.207643  ...  0.247998  0.771679  0.909412 -0.689281   \n",
       "3  0.377436 -1.387024 -0.054952  ... -0.108300  0.005274 -0.190321 -1.175575   \n",
       "4 -0.270533  0.817739  0.753074  ... -0.009431  0.798278 -0.137458  0.141267   \n",
       "\n",
       "        V25       V26       V27       V28  Amount  Class  \n",
       "0  0.128539 -0.189115  0.133558 -0.021053  149.62      0  \n",
       "1  0.167170  0.125895 -0.008983  0.014724    2.69      0  \n",
       "2 -0.327642 -0.139097 -0.055353 -0.059752  378.66      0  \n",
       "3  0.647376 -0.221929  0.062723  0.061458  123.50      0  \n",
       "4 -0.206010  0.502292  0.219422  0.215153   69.99      0  \n",
       "\n",
       "[5 rows x 30 columns]"
      ]
     },
     "execution_count": 4,
     "metadata": {},
     "output_type": "execute_result"
    }
   ],
   "source": [
    "credit_df.head(5)"
   ]
  },
  {
   "cell_type": "markdown",
   "id": "bored-nigeria",
   "metadata": {
    "papermill": {
     "duration": 0.021606,
     "end_time": "2021-04-26T20:44:04.143326",
     "exception": false,
     "start_time": "2021-04-26T20:44:04.121720",
     "status": "completed"
    },
    "tags": []
   },
   "source": [
    "We gonna use the StandardScaler function from sklearn to standardize Amount variable before modelling. Then, we just have to drop the old feature:"
   ]
  },
  {
   "cell_type": "code",
   "execution_count": 5,
   "id": "abandoned-complex",
   "metadata": {
    "execution": {
     "iopub.execute_input": "2021-04-26T20:44:04.191848Z",
     "iopub.status.busy": "2021-04-26T20:44:04.191093Z",
     "iopub.status.idle": "2021-04-26T20:44:04.364542Z",
     "shell.execute_reply": "2021-04-26T20:44:04.363874Z"
    },
    "papermill": {
     "duration": 0.199669,
     "end_time": "2021-04-26T20:44:04.364698",
     "exception": false,
     "start_time": "2021-04-26T20:44:04.165029",
     "status": "completed"
    },
    "tags": []
   },
   "outputs": [],
   "source": [
    "from sklearn import preprocessing\n",
    "scaler = preprocessing.StandardScaler()"
   ]
  },
  {
   "cell_type": "code",
   "execution_count": 6,
   "id": "latter-referral",
   "metadata": {
    "execution": {
     "iopub.execute_input": "2021-04-26T20:44:04.415477Z",
     "iopub.status.busy": "2021-04-26T20:44:04.414804Z",
     "iopub.status.idle": "2021-04-26T20:44:04.514565Z",
     "shell.execute_reply": "2021-04-26T20:44:04.513794Z"
    },
    "papermill": {
     "duration": 0.127497,
     "end_time": "2021-04-26T20:44:04.514722",
     "exception": false,
     "start_time": "2021-04-26T20:44:04.387225",
     "status": "completed"
    },
    "tags": []
   },
   "outputs": [],
   "source": [
    "#standard scaling\n",
    "credit_df['std_Amount'] = scaler.fit_transform(credit_df['Amount'].values.reshape (-1,1))\n",
    "\n",
    "#removing Amount\n",
    "credit_df = credit_df.drop(\"Amount\", axis=1)"
   ]
  },
  {
   "cell_type": "markdown",
   "id": "sunrise-pleasure",
   "metadata": {
    "papermill": {
     "duration": 0.022235,
     "end_time": "2021-04-26T20:44:04.560642",
     "exception": false,
     "start_time": "2021-04-26T20:44:04.538407",
     "status": "completed"
    },
    "tags": []
   },
   "source": [
    "Now look the class"
   ]
  },
  {
   "cell_type": "code",
   "execution_count": 7,
   "id": "middle-certificate",
   "metadata": {
    "execution": {
     "iopub.execute_input": "2021-04-26T20:44:04.611153Z",
     "iopub.status.busy": "2021-04-26T20:44:04.610510Z",
     "iopub.status.idle": "2021-04-26T20:44:04.779270Z",
     "shell.execute_reply": "2021-04-26T20:44:04.777804Z"
    },
    "papermill": {
     "duration": 0.196587,
     "end_time": "2021-04-26T20:44:04.779427",
     "exception": false,
     "start_time": "2021-04-26T20:44:04.582840",
     "status": "completed"
    },
    "tags": []
   },
   "outputs": [
    {
     "data": {
      "text/plain": [
       "<AxesSubplot:xlabel='Class', ylabel='count'>"
      ]
     },
     "execution_count": 7,
     "metadata": {},
     "output_type": "execute_result"
    },
    {
     "data": {
      "image/png": "[encoded data removed]",
      "text/plain": [
       "<Figure size 432x288 with 1 Axes>"
      ]
     },
     "metadata": {
      "needs_background": "light"
     },
     "output_type": "display_data"
    }
   ],
   "source": [
    "sns.countplot(x=\"Class\", data=credit_df)"
   ]
  },
  {
   "cell_type": "markdown",
   "id": "disabled-memorial",
   "metadata": {
    "papermill": {
     "duration": 0.023703,
     "end_time": "2021-04-26T20:44:04.827434",
     "exception": false,
     "start_time": "2021-04-26T20:44:04.803731",
     "status": "completed"
    },
    "tags": []
   },
   "source": [
    "As the dataset is highly imbalanced and we don't want bias in the predictions. I will proceed to random undersampling with the danger and that is posible, or even likely, that useful information will be deleted.\n",
    "\n",
    "We gonna use the package imblearn with RandomUnderSampler function to do undersampling. "
   ]
  },
  {
   "cell_type": "code",
   "execution_count": 8,
   "id": "crude-implementation",
   "metadata": {
    "execution": {
     "iopub.execute_input": "2021-04-26T20:44:04.880565Z",
     "iopub.status.busy": "2021-04-26T20:44:04.879753Z",
     "iopub.status.idle": "2021-04-26T20:44:05.321222Z",
     "shell.execute_reply": "2021-04-26T20:44:05.320540Z"
    },
    "papermill": {
     "duration": 0.469917,
     "end_time": "2021-04-26T20:44:05.321361",
     "exception": false,
     "start_time": "2021-04-26T20:44:04.851444",
     "status": "completed"
    },
    "tags": []
   },
   "outputs": [],
   "source": [
    "import imblearn\n",
    "from imblearn.under_sampling import RandomUnderSampler \n",
    "\n",
    "undersample = RandomUnderSampler(sampling_strategy=0.5)"
   ]
  },
  {
   "cell_type": "code",
   "execution_count": 9,
   "id": "thermal-cowboy",
   "metadata": {
    "execution": {
     "iopub.execute_input": "2021-04-26T20:44:05.373281Z",
     "iopub.status.busy": "2021-04-26T20:44:05.372470Z",
     "iopub.status.idle": "2021-04-26T20:44:05.375601Z",
     "shell.execute_reply": "2021-04-26T20:44:05.374991Z"
    },
    "papermill": {
     "duration": 0.030959,
     "end_time": "2021-04-26T20:44:05.375736",
     "exception": false,
     "start_time": "2021-04-26T20:44:05.344777",
     "status": "completed"
    },
    "tags": []
   },
   "outputs": [],
   "source": [
    "cols = credit_df.columns.tolist()\n",
    "cols = [c for c in cols if c not in [\"Class\"]]\n",
    "target = \"Class\" "
   ]
  },
  {
   "cell_type": "code",
   "execution_count": 10,
   "id": "cooperative-organ",
   "metadata": {
    "execution": {
     "iopub.execute_input": "2021-04-26T20:44:05.452775Z",
     "iopub.status.busy": "2021-04-26T20:44:05.451748Z",
     "iopub.status.idle": "2021-04-26T20:44:05.599483Z",
     "shell.execute_reply": "2021-04-26T20:44:05.598780Z"
    },
    "papermill": {
     "duration": 0.200578,
     "end_time": "2021-04-26T20:44:05.599651",
     "exception": false,
     "start_time": "2021-04-26T20:44:05.399073",
     "status": "completed"
    },
    "tags": []
   },
   "outputs": [],
   "source": [
    "#define X and Y\n",
    "X = credit_df[cols]\n",
    "Y = credit_df[target]\n",
    "\n",
    "#undersample\n",
    "X_under, Y_under = undersample.fit_resample(X, Y)"
   ]
  },
  {
   "cell_type": "code",
   "execution_count": 11,
   "id": "threaded-ethernet",
   "metadata": {
    "execution": {
     "iopub.execute_input": "2021-04-26T20:44:05.654239Z",
     "iopub.status.busy": "2021-04-26T20:44:05.653544Z",
     "iopub.status.idle": "2021-04-26T20:44:05.656963Z",
     "shell.execute_reply": "2021-04-26T20:44:05.656343Z"
    },
    "papermill": {
     "duration": 0.033644,
     "end_time": "2021-04-26T20:44:05.657114",
     "exception": false,
     "start_time": "2021-04-26T20:44:05.623470",
     "status": "completed"
    },
    "tags": []
   },
   "outputs": [],
   "source": [
    "from pandas import DataFrame\n",
    "\n",
    "test = pd.DataFrame(Y_under, columns = ['Class'])"
   ]
  },
  {
   "cell_type": "code",
   "execution_count": 12,
   "id": "recovered-virgin",
   "metadata": {
    "execution": {
     "iopub.execute_input": "2021-04-26T20:44:05.727984Z",
     "iopub.status.busy": "2021-04-26T20:44:05.726912Z",
     "iopub.status.idle": "2021-04-26T20:44:05.945386Z",
     "shell.execute_reply": "2021-04-26T20:44:05.944743Z"
    },
    "papermill": {
     "duration": 0.264975,
     "end_time": "2021-04-26T20:44:05.945522",
     "exception": false,
     "start_time": "2021-04-26T20:44:05.680547",
     "status": "completed"
    },
    "tags": []
   },
   "outputs": [
    {
     "data": {
      "text/plain": [
       "Text(0.5, 1.0, 'After')"
      ]
     },
     "execution_count": 12,
     "metadata": {},
     "output_type": "execute_result"
    },
    {
     "data": {
      "image/png": "[encoded data removed]",
      "text/plain": [
       "<Figure size 936x324 with 2 Axes>"
      ]
     },
     "metadata": {
      "needs_background": "light"
     },
     "output_type": "display_data"
    }
   ],
   "source": [
    "#visualizing undersampling results\n",
    "fig, axs = plt.subplots(ncols=2, figsize=(13,4.5))\n",
    "sns.countplot(x=\"Class\", data=credit_df, ax=axs[0])\n",
    "sns.countplot(x=\"Class\", data=test, ax=axs[1])\n",
    "\n",
    "fig.suptitle(\"Class repartition before and after undersampling\")\n",
    "a1=fig.axes[0]\n",
    "a1.set_title(\"Before\")\n",
    "a2=fig.axes[1]\n",
    "a2.set_title(\"After\")"
   ]
  },
  {
   "cell_type": "markdown",
   "id": "functioning-valuation",
   "metadata": {
    "papermill": {
     "duration": 0.02475,
     "end_time": "2021-04-26T20:44:05.996738",
     "exception": false,
     "start_time": "2021-04-26T20:44:05.971988",
     "status": "completed"
    },
    "tags": []
   },
   "source": [
    "We're gonna split the data intro train and test samples"
   ]
  },
  {
   "cell_type": "code",
   "execution_count": 13,
   "id": "elementary-dubai",
   "metadata": {
    "execution": {
     "iopub.execute_input": "2021-04-26T20:44:06.053095Z",
     "iopub.status.busy": "2021-04-26T20:44:06.052321Z",
     "iopub.status.idle": "2021-04-26T20:44:06.056454Z",
     "shell.execute_reply": "2021-04-26T20:44:06.055768Z"
    },
    "papermill": {
     "duration": 0.035462,
     "end_time": "2021-04-26T20:44:06.056605",
     "exception": false,
     "start_time": "2021-04-26T20:44:06.021143",
     "status": "completed"
    },
    "tags": []
   },
   "outputs": [],
   "source": [
    "from sklearn.model_selection import train_test_split\n",
    "\n",
    "X_train, X_test, y_train, y_test = train_test_split(X_under, Y_under, test_size=0.2, random_state=1)"
   ]
  },
  {
   "cell_type": "markdown",
   "id": "hungry-pierre",
   "metadata": {
    "papermill": {
     "duration": 0.024909,
     "end_time": "2021-04-26T20:44:06.107050",
     "exception": false,
     "start_time": "2021-04-26T20:44:06.082141",
     "status": "completed"
    },
    "tags": []
   },
   "source": [
    "# We gonna make the modeling"
   ]
  },
  {
   "cell_type": "code",
   "execution_count": 14,
   "id": "ethical-consent",
   "metadata": {
    "execution": {
     "iopub.execute_input": "2021-04-26T20:44:06.166256Z",
     "iopub.status.busy": "2021-04-26T20:44:06.165463Z",
     "iopub.status.idle": "2021-04-26T20:44:12.008965Z",
     "shell.execute_reply": "2021-04-26T20:44:12.007857Z"
    },
    "papermill": {
     "duration": 5.87597,
     "end_time": "2021-04-26T20:44:12.009119",
     "exception": false,
     "start_time": "2021-04-26T20:44:06.133149",
     "status": "completed"
    },
    "tags": []
   },
   "outputs": [],
   "source": [
    "#importing packages for modeling\n",
    "\n",
    "from sklearn.linear_model import LogisticRegression\n",
    "from sklearn.svm import SVC\n",
    "from sklearn.ensemble import RandomForestClassifier\n",
    "from xgboost import XGBClassifier\n",
    "from sklearn.neural_network import MLPClassifier\n",
    "\n",
    "import tensorflow as tf\n",
    "from tensorflow import keras\n",
    "from tensorflow.keras import layers\n",
    "from keras.layers import Dropout\n",
    "from keras.models import Sequential\n",
    "from keras.layers import Dense\n",
    "from keras.layers import BatchNormalization\n",
    "\n",
    "from sklearn import metrics\n",
    "from sklearn.metrics import confusion_matrix\n",
    "from sklearn.metrics import roc_curve\n",
    "from sklearn.metrics import roc_auc_score\n",
    "from sklearn.metrics import auc\n",
    "from sklearn.metrics import precision_recall_curve"
   ]
  },
  {
   "cell_type": "markdown",
   "id": "threaded-screen",
   "metadata": {
    "papermill": {
     "duration": 0.024388,
     "end_time": "2021-04-26T20:44:12.058394",
     "exception": false,
     "start_time": "2021-04-26T20:44:12.034006",
     "status": "completed"
    },
    "tags": []
   },
   "source": [
    "# Logistic Regression"
   ]
  },
  {
   "cell_type": "code",
   "execution_count": 15,
   "id": "creative-former",
   "metadata": {
    "execution": {
     "iopub.execute_input": "2021-04-26T20:44:12.115920Z",
     "iopub.status.busy": "2021-04-26T20:44:12.114929Z",
     "iopub.status.idle": "2021-04-26T20:44:12.165655Z",
     "shell.execute_reply": "2021-04-26T20:44:12.166547Z"
    },
    "papermill": {
     "duration": 0.083875,
     "end_time": "2021-04-26T20:44:12.166835",
     "exception": false,
     "start_time": "2021-04-26T20:44:12.082960",
     "status": "completed"
    },
    "tags": []
   },
   "outputs": [],
   "source": [
    "#train the model\n",
    "model1 = LogisticRegression(random_state=2)\n",
    "logit = model1.fit(X_train, y_train)"
   ]
  },
  {
   "cell_type": "code",
   "execution_count": 16,
   "id": "confused-debate",
   "metadata": {
    "execution": {
     "iopub.execute_input": "2021-04-26T20:44:12.264988Z",
     "iopub.status.busy": "2021-04-26T20:44:12.263973Z",
     "iopub.status.idle": "2021-04-26T20:44:12.267143Z",
     "shell.execute_reply": "2021-04-26T20:44:12.268086Z"
    },
    "papermill": {
     "duration": 0.057505,
     "end_time": "2021-04-26T20:44:12.268346",
     "exception": false,
     "start_time": "2021-04-26T20:44:12.210841",
     "status": "completed"
    },
    "tags": []
   },
   "outputs": [],
   "source": [
    "#predictions\n",
    "y_pred_Logistic = model1.predict(X_test) "
   ]
  },
  {
   "cell_type": "code",
   "execution_count": 17,
   "id": "looking-mobile",
   "metadata": {
    "execution": {
     "iopub.execute_input": "2021-04-26T20:44:12.328928Z",
     "iopub.status.busy": "2021-04-26T20:44:12.328281Z",
     "iopub.status.idle": "2021-04-26T20:44:12.338289Z",
     "shell.execute_reply": "2021-04-26T20:44:12.339127Z"
    },
    "papermill": {
     "duration": 0.04248,
     "end_time": "2021-04-26T20:44:12.339355",
     "exception": false,
     "start_time": "2021-04-26T20:44:12.296875",
     "status": "completed"
    },
    "tags": []
   },
   "outputs": [
    {
     "name": "stdout",
     "output_type": "stream",
     "text": [
      "Accuracy Logistic Regression: 0.956081081081081\n",
      "Precision Logistic Regression: 0.9702970297029703\n",
      "Recall Logistic Regression: 0.9074074074074074\n",
      "F1 Score Logistic Regression: 0.937799043062201\n"
     ]
    }
   ],
   "source": [
    "#scores\n",
    "print(\"Accuracy Logistic Regression:\",metrics.accuracy_score(y_test, y_pred_Logistic))\n",
    "print(\"Precision Logistic Regression:\",metrics.precision_score(y_test, y_pred_Logistic))\n",
    "print(\"Recall Logistic Regression:\",metrics.recall_score(y_test, y_pred_Logistic))\n",
    "print(\"F1 Score Logistic Regression:\",metrics.f1_score(y_test, y_pred_Logistic))"
   ]
  },
  {
   "cell_type": "code",
   "execution_count": 18,
   "id": "empty-williams",
   "metadata": {
    "execution": {
     "iopub.execute_input": "2021-04-26T20:44:12.397933Z",
     "iopub.status.busy": "2021-04-26T20:44:12.397168Z",
     "iopub.status.idle": "2021-04-26T20:44:12.754590Z",
     "shell.execute_reply": "2021-04-26T20:44:12.755208Z"
    },
    "papermill": {
     "duration": 0.389561,
     "end_time": "2021-04-26T20:44:12.755451",
     "exception": false,
     "start_time": "2021-04-26T20:44:12.365890",
     "status": "completed"
    },
    "tags": []
   },
   "outputs": [
    {
     "ename": "NameError",
     "evalue": "name 'y_pred_logit' is not defined",
     "output_type": "error",
     "traceback": [
      "\u001b[0;31m---------------------------------------------------------------------------\u001b[0m",
      "\u001b[0;31mNameError\u001b[0m                                 Traceback (most recent call last)",
      "\u001b[0;32m<ipython-input-18-8d34102f2791>\u001b[0m in \u001b[0;36m<module>\u001b[0;34m\u001b[0m\n\u001b[1;32m      1\u001b[0m \u001b[0;31m#print CM\u001b[0m\u001b[0;34m\u001b[0m\u001b[0;34m\u001b[0m\u001b[0;34m\u001b[0m\u001b[0m\n\u001b[0;32m----> 2\u001b[0;31m \u001b[0mmatrix_logit\u001b[0m \u001b[0;34m=\u001b[0m \u001b[0mconfusion_matrix\u001b[0m\u001b[0;34m(\u001b[0m\u001b[0my_test\u001b[0m\u001b[0;34m,\u001b[0m \u001b[0my_pred_logit\u001b[0m\u001b[0;34m)\u001b[0m\u001b[0;34m\u001b[0m\u001b[0;34m\u001b[0m\u001b[0m\n\u001b[0m\u001b[1;32m      3\u001b[0m \u001b[0mcm_logit\u001b[0m \u001b[0;34m=\u001b[0m \u001b[0mpd\u001b[0m\u001b[0;34m.\u001b[0m\u001b[0mDataFrame\u001b[0m\u001b[0;34m(\u001b[0m\u001b[0mmatrix_logit\u001b[0m\u001b[0;34m,\u001b[0m \u001b[0mindex\u001b[0m\u001b[0;34m=\u001b[0m\u001b[0;34m[\u001b[0m\u001b[0;34m'not_fraud'\u001b[0m\u001b[0;34m,\u001b[0m \u001b[0;34m'fraud'\u001b[0m\u001b[0;34m]\u001b[0m\u001b[0;34m,\u001b[0m \u001b[0mcolumns\u001b[0m\u001b[0;34m=\u001b[0m\u001b[0;34m[\u001b[0m\u001b[0;34m'not_fraud'\u001b[0m\u001b[0;34m,\u001b[0m \u001b[0;34m'fraud'\u001b[0m\u001b[0;34m]\u001b[0m\u001b[0;34m)\u001b[0m\u001b[0;34m\u001b[0m\u001b[0;34m\u001b[0m\u001b[0m\n\u001b[1;32m      4\u001b[0m \u001b[0;34m\u001b[0m\u001b[0m\n\u001b[1;32m      5\u001b[0m \u001b[0msns\u001b[0m\u001b[0;34m.\u001b[0m\u001b[0mheatmap\u001b[0m\u001b[0;34m(\u001b[0m\u001b[0mcm_logit\u001b[0m\u001b[0;34m,\u001b[0m \u001b[0mannot\u001b[0m\u001b[0;34m=\u001b[0m\u001b[0;32mTrue\u001b[0m\u001b[0;34m,\u001b[0m \u001b[0mcbar\u001b[0m\u001b[0;34m=\u001b[0m\u001b[0;32mNone\u001b[0m\u001b[0;34m,\u001b[0m \u001b[0mcmap\u001b[0m\u001b[0;34m=\u001b[0m\u001b[0;34m\"Blues\"\u001b[0m\u001b[0;34m,\u001b[0m \u001b[0mfmt\u001b[0m \u001b[0;34m=\u001b[0m \u001b[0;34m'g'\u001b[0m\u001b[0;34m)\u001b[0m\u001b[0;34m\u001b[0m\u001b[0;34m\u001b[0m\u001b[0m\n",
      "\u001b[0;31mNameError\u001b[0m: name 'y_pred_logit' is not defined"
     ]
    }
   ],
   "source": [
    "#print CM\n",
    "matrix_logit = confusion_matrix(y_test, y_pred_logit)\n",
    "cm_logit = pd.DataFrame(matrix_logit, index=['not_fraud', 'fraud'], columns=['not_fraud', 'fraud'])\n",
    "\n",
    "sns.heatmap(cm_logit, annot=True, cbar=None, cmap=\"Blues\", fmt = 'g')\n",
    "plt.title(\"Confusion Matrix Logit\"), plt.tight_layout()\n",
    "plt.ylabel(\"True Class\"), plt.xlabel(\"Predicted Class\")\n",
    "plt.show()"
   ]
  },
  {
   "cell_type": "code",
   "execution_count": 19,
   "id": "organic-alexander",
   "metadata": {
    "execution": {
     "iopub.execute_input": "2021-04-26T20:44:12.811135Z",
     "iopub.status.busy": "2021-04-26T20:44:12.810219Z",
     "iopub.status.idle": "2021-04-26T20:44:12.822080Z",
     "shell.execute_reply": "2021-04-26T20:44:12.822539Z"
    },
    "papermill": {
     "duration": 0.041289,
     "end_time": "2021-04-26T20:44:12.822719",
     "exception": false,
     "start_time": "2021-04-26T20:44:12.781430",
     "status": "completed"
    },
    "tags": []
   },
   "outputs": [
    {
     "name": "stdout",
     "output_type": "stream",
     "text": [
      "AUC Logistic Regression : 0.9719759653270291\n"
     ]
    }
   ],
   "source": [
    "#AUC\n",
    "y_pred_logit_proba = model1.predict_proba(X_test)[::,1]\n",
    "fpr_logit, tpr_logit, _ = metrics.roc_curve(y_test,  y_pred_logit_proba)\n",
    "auc_logit = metrics.roc_auc_score(y_test, y_pred_logit_proba)\n",
    "print(\"AUC Logistic Regression :\", auc_logit)"
   ]
  },
  {
   "cell_type": "code",
   "execution_count": 20,
   "id": "statutory-stations",
   "metadata": {
    "execution": {
     "iopub.execute_input": "2021-04-26T20:44:12.900241Z",
     "iopub.status.busy": "2021-04-26T20:44:12.887741Z",
     "iopub.status.idle": "2021-04-26T20:44:13.043616Z",
     "shell.execute_reply": "2021-04-26T20:44:13.043079Z"
    },
    "papermill": {
     "duration": 0.194516,
     "end_time": "2021-04-26T20:44:13.043749",
     "exception": false,
     "start_time": "2021-04-26T20:44:12.849233",
     "status": "completed"
    },
    "tags": []
   },
   "outputs": [
    {
     "data": {
      "image/png": "[encoded data removed]",
      "text/plain": [
       "<Figure size 432x288 with 1 Axes>"
      ]
     },
     "metadata": {
      "needs_background": "light"
     },
     "output_type": "display_data"
    }
   ],
   "source": [
    "#ROC\n",
    "plt.plot(fpr_logit,tpr_logit,label=\"Logistic Regression, auc={:.3f})\".format(auc_logit))\n",
    "plt.plot([0, 1], [0, 1], 'k--')\n",
    "plt.xlabel('False positive rate')\n",
    "plt.ylabel('True positive rate')\n",
    "plt.title('Logistic Regression ROC curve')\n",
    "plt.legend(loc=4)\n",
    "plt.show()"
   ]
  },
  {
   "cell_type": "code",
   "execution_count": 21,
   "id": "actual-session",
   "metadata": {
    "execution": {
     "iopub.execute_input": "2021-04-26T20:44:13.109137Z",
     "iopub.status.busy": "2021-04-26T20:44:13.108429Z",
     "iopub.status.idle": "2021-04-26T20:44:13.318743Z",
     "shell.execute_reply": "2021-04-26T20:44:13.318220Z"
    },
    "papermill": {
     "duration": 0.245983,
     "end_time": "2021-04-26T20:44:13.318890",
     "exception": false,
     "start_time": "2021-04-26T20:44:13.072907",
     "status": "completed"
    },
    "tags": []
   },
   "outputs": [
    {
     "data": {
      "image/png": "[encoded data removed]",
      "text/plain": [
       "<Figure size 432x288 with 1 Axes>"
      ]
     },
     "metadata": {
      "needs_background": "light"
     },
     "output_type": "display_data"
    }
   ],
   "source": [
    "logit_precision, logit_recall, _ = precision_recall_curve(y_test, y_pred_logit_proba)\n",
    "no_skill = len(y_test[y_test==1]) / len(y_test)\n",
    "plt.plot([0, 1], [no_skill, no_skill], linestyle='--', color='black', label='No Skill')\n",
    "plt.plot(logit_recall, logit_precision, color='orange', label='Logistic')\n",
    "plt.xlabel('Recall')\n",
    "plt.ylabel('Precision')\n",
    "plt.title('Precision-Recall curve')\n",
    "plt.legend()\n",
    "plt.show()"
   ]
  },
  {
   "cell_type": "markdown",
   "id": "suffering-charles",
   "metadata": {
    "papermill": {
     "duration": 0.028517,
     "end_time": "2021-04-26T20:44:13.376288",
     "exception": false,
     "start_time": "2021-04-26T20:44:13.347771",
     "status": "completed"
    },
    "tags": []
   },
   "source": [
    "Classification metrics for Logistic Regression (rounded down):\n",
    "\n",
    "- Accuracy : 0.94\n",
    "- F1 score : 0.92\n",
    "- AUC : 0.96"
   ]
  },
  {
   "cell_type": "code",
   "execution_count": null,
   "id": "through-collective",
   "metadata": {
    "papermill": {
     "duration": 0.028142,
     "end_time": "2021-04-26T20:44:13.433327",
     "exception": false,
     "start_time": "2021-04-26T20:44:13.405185",
     "status": "completed"
    },
    "tags": []
   },
   "outputs": [],
   "source": []
  }
 ],
 "metadata": {
  "kernelspec": {
   "display_name": "Python 3",
   "language": "python",
   "name": "python3"
  },
  "language_info": {
   "codemirror_mode": {
    "name": "ipython",
    "version": 3
   },
   "file_extension": ".py",
   "mimetype": "text/x-python",
   "name": "python",
   "nbconvert_exporter": "python",
   "pygments_lexer": "ipython3",
   "version": "3.7.9"
  },
  "papermill": {
   "default_parameters": {},
   "duration": 22.292617,
   "end_time": "2021-04-26T20:44:14.573860",
   "environment_variables": {},
   "exception": null,
   "input_path": "__notebook__.ipynb",
   "output_path": "__notebook__.ipynb",
   "parameters": {},
   "start_time": "2021-04-26T20:43:52.281243",
   "version": "2.3.2"
  }
 },
 "nbformat": 4,
 "nbformat_minor": 5
}
